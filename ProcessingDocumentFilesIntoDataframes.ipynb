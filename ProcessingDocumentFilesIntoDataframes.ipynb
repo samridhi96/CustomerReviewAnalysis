{
 "cells": [
  {
   "cell_type": "code",
   "execution_count": 1,
   "id": "61bdd6fa",
   "metadata": {},
   "outputs": [],
   "source": [
    "import pandas as pd\n",
    "import numpy as np"
   ]
  },
  {
   "cell_type": "code",
   "execution_count": 2,
   "id": "04ba96bc",
   "metadata": {},
   "outputs": [],
   "source": [
    "def make_dataframe_of_files(f):\n",
    "    \n",
    "    filename = \"./oposum-train/\" + f\n",
    "    dictionary_name = { 'product_Id' :[],'rating':[],'reviews':[]}\n",
    "\n",
    "    try:\n",
    "        filehandle = open(filename, 'r')\n",
    "        line_array = []\n",
    "\n",
    "        while filehandle:\n",
    "            line  = filehandle.readline()\n",
    "            line_array = line.split(' ')\n",
    "            if(len(line.split(' ')) == 2 and (line_array[0][-3:].strip()).isnumeric() and (line_array[1].strip()).isnumeric()):\n",
    "                dictionary_name['product_Id'].append(line_array[0])\n",
    "                dictionary_name['rating'].append(line_array[1][0])\n",
    "            else:        \n",
    "                    review_text = ''\n",
    "                    while(line != \"\\n\" and line !=\"\"):\n",
    "\n",
    "                        review_text = review_text + line\n",
    "                        line = filehandle.readline()\n",
    "\n",
    "                    if(len(review_text) > 0):\n",
    "                        review_text = review_text.replace(' EDU_BREAK', '')\n",
    "                        review_text = review_text.replace('\\n', '')\n",
    "                        dictionary_name['reviews'].append(review_text)\n",
    "\n",
    "            if line == \"\":\n",
    "                break\n",
    "\n",
    "        df_name = pd.DataFrame.from_dict(dictionary_name)\n",
    "        return df_name\n",
    "    finally:\n",
    "        filehandle.close()"
   ]
  },
  {
   "cell_type": "code",
   "execution_count": 3,
   "id": "ac53f19d",
   "metadata": {},
   "outputs": [],
   "source": [
    "import os\n",
    "\n",
    "path = './oposum-train'\n",
    "\n",
    "files = os.listdir(path)\n",
    "\n",
    "file_dict = {}\n",
    "\n",
    "for file in files:\n",
    "  key = file\n",
    "  df_name = make_dataframe_of_files(file)\n",
    "  file_dict[key] = df_name"
   ]
  },
  {
   "cell_type": "code",
   "execution_count": 4,
   "id": "dee0ddfc",
   "metadata": {},
   "outputs": [],
   "source": [
    "bags_and_cases = file_dict[\"bags_and_cases.trn\"]\n",
    "keyboards = file_dict[\"keyboards.trn\"]\n",
    "bluetooth = file_dict[\"bluetooth.trn\"]\n",
    "boots = file_dict[\"boots.trn\"]\n",
    "tv = file_dict[\"tv.trn\"]\n",
    "vacuums = file_dict[\"vacuums.trn\"]"
   ]
  },
  {
   "cell_type": "code",
   "execution_count": 7,
   "id": "041111a3",
   "metadata": {},
   "outputs": [],
   "source": [
    "bags_and_cases.to_csv('./input/bags_and_cases.csv')\n",
    "keyboards.to_csv('./input/keyboards.csv')\n",
    "bluetooth.to_csv('./input/bluetooth.csv')\n",
    "boots.to_csv('./input/boots.csv')\n",
    "tv.to_csv('./input/tv.csv')\n",
    "vacuums.to_csv('./input/vacuums.csv')"
   ]
  },
  {
   "cell_type": "code",
   "execution_count": 8,
   "id": "59b5e5f7",
   "metadata": {},
   "outputs": [
    {
     "data": {
      "text/plain": [
       "(68166, 3)"
      ]
     },
     "execution_count": 8,
     "metadata": {},
     "output_type": "execute_result"
    }
   ],
   "source": [
    "vacuums.shape\n",
    "\n"
   ]
  },
  {
   "cell_type": "code",
   "execution_count": 9,
   "id": "f63defb8",
   "metadata": {},
   "outputs": [
    {
     "data": {
      "text/plain": [
       "(56410, 3)"
      ]
     },
     "execution_count": 9,
     "metadata": {},
     "output_type": "execute_result"
    }
   ],
   "source": [
    "tv.shape"
   ]
  },
  {
   "cell_type": "code",
   "execution_count": 10,
   "id": "1a78f60b",
   "metadata": {},
   "outputs": [
    {
     "data": {
      "text/plain": [
       "(77493, 3)"
      ]
     },
     "execution_count": 10,
     "metadata": {},
     "output_type": "execute_result"
    }
   ],
   "source": [
    "boots.shape"
   ]
  },
  {
   "cell_type": "code",
   "execution_count": 11,
   "id": "834bcef7",
   "metadata": {},
   "outputs": [
    {
     "data": {
      "text/plain": [
       "(80148, 3)"
      ]
     },
     "execution_count": 11,
     "metadata": {},
     "output_type": "execute_result"
    }
   ],
   "source": [
    "bluetooth.shape"
   ]
  },
  {
   "cell_type": "code",
   "execution_count": 12,
   "id": "c5729649",
   "metadata": {},
   "outputs": [
    {
     "data": {
      "text/plain": [
       "(33613, 3)"
      ]
     },
     "execution_count": 12,
     "metadata": {},
     "output_type": "execute_result"
    }
   ],
   "source": [
    "keyboards.shape"
   ]
  },
  {
   "cell_type": "code",
   "execution_count": 13,
   "id": "5a25762c",
   "metadata": {},
   "outputs": [
    {
     "data": {
      "text/plain": [
       "(42632, 3)"
      ]
     },
     "execution_count": 13,
     "metadata": {},
     "output_type": "execute_result"
    }
   ],
   "source": [
    "bags_and_cases.shape"
   ]
  },
  {
   "cell_type": "code",
   "execution_count": null,
   "id": "2fb14593",
   "metadata": {},
   "outputs": [],
   "source": []
  }
 ],
 "metadata": {
  "kernelspec": {
   "display_name": "Python 3 (ipykernel)",
   "language": "python",
   "name": "python3"
  },
  "language_info": {
   "codemirror_mode": {
    "name": "ipython",
    "version": 3
   },
   "file_extension": ".py",
   "mimetype": "text/x-python",
   "name": "python",
   "nbconvert_exporter": "python",
   "pygments_lexer": "ipython3",
   "version": "3.9.7"
  }
 },
 "nbformat": 4,
 "nbformat_minor": 5
}
