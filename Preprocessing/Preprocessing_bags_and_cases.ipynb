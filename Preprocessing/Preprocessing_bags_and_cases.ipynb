{
 "cells": [
  {
   "cell_type": "code",
   "execution_count": 2,
   "id": "952b2d45",
   "metadata": {},
   "outputs": [],
   "source": [
    "import pandas as pd\n",
    "import numpy as np"
   ]
  },
  {
   "cell_type": "code",
   "execution_count": 3,
   "id": "a300729b",
   "metadata": {},
   "outputs": [],
   "source": [
    "bags_and_cases = pd.read_csv('../inputCSVs/bags_and_cases.csv')"
   ]
  },
  {
   "cell_type": "code",
   "execution_count": 4,
   "id": "722948ba",
   "metadata": {},
   "outputs": [
    {
     "data": {
      "text/plain": [
       "(42632, 4)"
      ]
     },
     "execution_count": 4,
     "metadata": {},
     "output_type": "execute_result"
    }
   ],
   "source": [
    "bags_and_cases.shape"
   ]
  },
  {
   "cell_type": "code",
   "execution_count": 72,
   "id": "edb453a5",
   "metadata": {},
   "outputs": [],
   "source": [
    "# Check the missing values in df\n",
    "null_values=bags_and_cases.isna().sum()\n"
   ]
  },
  {
   "cell_type": "code",
   "execution_count": 73,
   "id": "6543c885",
   "metadata": {},
   "outputs": [
    {
     "data": {
      "text/plain": [
       "product_Id    0\n",
       "rating        0\n",
       "reviews       0\n",
       "dtype: int64"
      ]
     },
     "execution_count": 73,
     "metadata": {},
     "output_type": "execute_result"
    }
   ],
   "source": [
    "null_values"
   ]
  },
  {
   "cell_type": "code",
   "execution_count": 74,
   "id": "4d6d7c9d",
   "metadata": {},
   "outputs": [
    {
     "data": {
      "text/plain": [
       "(42632, 3)"
      ]
     },
     "execution_count": 74,
     "metadata": {},
     "output_type": "execute_result"
    }
   ],
   "source": [
    "bags_and_cases.shape"
   ]
  },
  {
   "cell_type": "code",
   "execution_count": 75,
   "id": "1b0615c4",
   "metadata": {},
   "outputs": [
    {
     "name": "stdout",
     "output_type": "stream",
     "text": [
      "\u001b[33mDEPRECATION: Configuring installation scheme with distutils config files is deprecated and will no longer work in the near future. If you are using a Homebrew or Linuxbrew Python, please see discussion at https://github.com/Homebrew/homebrew-core/issues/76621\u001b[0m\n",
      "Requirement already satisfied: gensim in /usr/local/lib/python3.9/site-packages (4.1.2)\n",
      "Requirement already satisfied: smart-open>=1.8.1 in /usr/local/lib/python3.9/site-packages (from gensim) (5.2.1)\n",
      "Requirement already satisfied: scipy>=0.18.1 in /usr/local/lib/python3.9/site-packages (from gensim) (1.5.4)\n",
      "Requirement already satisfied: numpy>=1.17.0 in /usr/local/lib/python3.9/site-packages (from gensim) (1.22.2)\n",
      "\u001b[33mWARNING: You are using pip version 21.3; however, version 22.0.4 is available.\n",
      "You should consider upgrading via the '/usr/local/opt/python@3.9/bin/python3.9 -m pip install --upgrade pip' command.\u001b[0m\n",
      "\u001b[33mDEPRECATION: Configuring installation scheme with distutils config files is deprecated and will no longer work in the near future. If you are using a Homebrew or Linuxbrew Python, please see discussion at https://github.com/Homebrew/homebrew-core/issues/76621\u001b[0m\n",
      "Requirement already satisfied: pyldavis in /usr/local/lib/python3.9/site-packages (3.3.1)\n",
      "Requirement already satisfied: funcy in /usr/local/lib/python3.9/site-packages (from pyldavis) (1.17)\n",
      "Requirement already satisfied: pandas>=1.2.0 in /usr/local/lib/python3.9/site-packages (from pyldavis) (1.3.3)\n",
      "Requirement already satisfied: future in /usr/local/lib/python3.9/site-packages (from pyldavis) (0.18.2)\n",
      "Requirement already satisfied: numpy>=1.20.0 in /usr/local/lib/python3.9/site-packages (from pyldavis) (1.22.2)\n",
      "Requirement already satisfied: gensim in /usr/local/lib/python3.9/site-packages (from pyldavis) (4.1.2)\n",
      "Requirement already satisfied: sklearn in /usr/local/lib/python3.9/site-packages (from pyldavis) (0.0)\n",
      "Requirement already satisfied: scikit-learn in /usr/local/lib/python3.9/site-packages (from pyldavis) (1.0)\n",
      "Requirement already satisfied: setuptools in /usr/local/lib/python3.9/site-packages (from pyldavis) (57.4.0)\n",
      "Requirement already satisfied: numexpr in /usr/local/lib/python3.9/site-packages (from pyldavis) (2.8.1)\n",
      "Requirement already satisfied: scipy in /usr/local/lib/python3.9/site-packages (from pyldavis) (1.5.4)\n",
      "Requirement already satisfied: jinja2 in /usr/local/lib/python3.9/site-packages (from pyldavis) (3.0.3)\n",
      "Requirement already satisfied: joblib in /usr/local/lib/python3.9/site-packages (from pyldavis) (1.1.0)\n",
      "Requirement already satisfied: python-dateutil>=2.7.3 in /usr/local/lib/python3.9/site-packages (from pandas>=1.2.0->pyldavis) (2.8.2)\n",
      "Requirement already satisfied: pytz>=2017.3 in /usr/local/lib/python3.9/site-packages (from pandas>=1.2.0->pyldavis) (2021.3)\n",
      "Requirement already satisfied: smart-open>=1.8.1 in /usr/local/lib/python3.9/site-packages (from gensim->pyldavis) (5.2.1)\n",
      "Requirement already satisfied: MarkupSafe>=2.0 in /usr/local/lib/python3.9/site-packages (from jinja2->pyldavis) (2.0.1)\n",
      "Requirement already satisfied: packaging in /usr/local/lib/python3.9/site-packages (from numexpr->pyldavis) (21.2)\n",
      "Requirement already satisfied: threadpoolctl>=2.0.0 in /usr/local/lib/python3.9/site-packages (from scikit-learn->pyldavis) (3.0.0)\n",
      "Requirement already satisfied: six>=1.5 in /usr/local/lib/python3.9/site-packages (from python-dateutil>=2.7.3->pandas>=1.2.0->pyldavis) (1.16.0)\n",
      "Requirement already satisfied: pyparsing<3,>=2.0.2 in /usr/local/lib/python3.9/site-packages (from packaging->numexpr->pyldavis) (2.4.7)\n",
      "\u001b[33mWARNING: You are using pip version 21.3; however, version 22.0.4 is available.\n",
      "You should consider upgrading via the '/usr/local/opt/python@3.9/bin/python3.9 -m pip install --upgrade pip' command.\u001b[0m\n",
      "\u001b[33mDEPRECATION: Configuring installation scheme with distutils config files is deprecated and will no longer work in the near future. If you are using a Homebrew or Linuxbrew Python, please see discussion at https://github.com/Homebrew/homebrew-core/issues/76621\u001b[0m\n",
      "Requirement already satisfied: nltk in /usr/local/lib/python3.9/site-packages (3.6.5)\n",
      "Requirement already satisfied: joblib in /usr/local/lib/python3.9/site-packages (from nltk) (1.1.0)\n",
      "Requirement already satisfied: tqdm in /usr/local/lib/python3.9/site-packages (from nltk) (4.62.3)\n",
      "Requirement already satisfied: regex>=2021.8.3 in /usr/local/lib/python3.9/site-packages (from nltk) (2021.11.10)\n",
      "Requirement already satisfied: click in /usr/local/lib/python3.9/site-packages (from nltk) (8.0.3)\n",
      "\u001b[33mWARNING: You are using pip version 21.3; however, version 22.0.4 is available.\n",
      "You should consider upgrading via the '/usr/local/opt/python@3.9/bin/python3.9 -m pip install --upgrade pip' command.\u001b[0m\n",
      "\u001b[33mDEPRECATION: Configuring installation scheme with distutils config files is deprecated and will no longer work in the near future. If you are using a Homebrew or Linuxbrew Python, please see discussion at https://github.com/Homebrew/homebrew-core/issues/76621\u001b[0m\n",
      "Requirement already satisfied: matplotlib in /usr/local/lib/python3.9/site-packages (3.4.3)\n",
      "Requirement already satisfied: numpy>=1.16 in /usr/local/lib/python3.9/site-packages (from matplotlib) (1.22.2)\n",
      "Requirement already satisfied: kiwisolver>=1.0.1 in /usr/local/lib/python3.9/site-packages (from matplotlib) (1.3.2)\n",
      "Requirement already satisfied: python-dateutil>=2.7 in /usr/local/lib/python3.9/site-packages (from matplotlib) (2.8.2)\n",
      "Requirement already satisfied: pillow>=6.2.0 in /usr/local/lib/python3.9/site-packages (from matplotlib) (8.3.2)\n",
      "Requirement already satisfied: pyparsing>=2.2.1 in /usr/local/lib/python3.9/site-packages (from matplotlib) (2.4.7)\n",
      "Requirement already satisfied: cycler>=0.10 in /usr/local/lib/python3.9/site-packages (from matplotlib) (0.10.0)\n",
      "Requirement already satisfied: six in /usr/local/lib/python3.9/site-packages (from cycler>=0.10->matplotlib) (1.16.0)\n",
      "\u001b[33mWARNING: You are using pip version 21.3; however, version 22.0.4 is available.\n",
      "You should consider upgrading via the '/usr/local/opt/python@3.9/bin/python3.9 -m pip install --upgrade pip' command.\u001b[0m\n",
      "\u001b[33mDEPRECATION: Configuring installation scheme with distutils config files is deprecated and will no longer work in the near future. If you are using a Homebrew or Linuxbrew Python, please see discussion at https://github.com/Homebrew/homebrew-core/issues/76621\u001b[0m\n",
      "Requirement already satisfied: seaborn in /usr/local/lib/python3.9/site-packages (0.11.2)\n",
      "Requirement already satisfied: scipy>=1.0 in /usr/local/lib/python3.9/site-packages (from seaborn) (1.5.4)\n",
      "Requirement already satisfied: pandas>=0.23 in /usr/local/lib/python3.9/site-packages (from seaborn) (1.3.3)\n",
      "Requirement already satisfied: numpy>=1.15 in /usr/local/lib/python3.9/site-packages (from seaborn) (1.22.2)\n",
      "Requirement already satisfied: matplotlib>=2.2 in /usr/local/lib/python3.9/site-packages (from seaborn) (3.4.3)\n",
      "Requirement already satisfied: kiwisolver>=1.0.1 in /usr/local/lib/python3.9/site-packages (from matplotlib>=2.2->seaborn) (1.3.2)\n",
      "Requirement already satisfied: pyparsing>=2.2.1 in /usr/local/lib/python3.9/site-packages (from matplotlib>=2.2->seaborn) (2.4.7)\n",
      "Requirement already satisfied: python-dateutil>=2.7 in /usr/local/lib/python3.9/site-packages (from matplotlib>=2.2->seaborn) (2.8.2)\n",
      "Requirement already satisfied: cycler>=0.10 in /usr/local/lib/python3.9/site-packages (from matplotlib>=2.2->seaborn) (0.10.0)\n",
      "Requirement already satisfied: pillow>=6.2.0 in /usr/local/lib/python3.9/site-packages (from matplotlib>=2.2->seaborn) (8.3.2)\n",
      "Requirement already satisfied: pytz>=2017.3 in /usr/local/lib/python3.9/site-packages (from pandas>=0.23->seaborn) (2021.3)\n",
      "Requirement already satisfied: six in /usr/local/lib/python3.9/site-packages (from cycler>=0.10->matplotlib>=2.2->seaborn) (1.16.0)\n",
      "\u001b[33mWARNING: You are using pip version 21.3; however, version 22.0.4 is available.\n",
      "You should consider upgrading via the '/usr/local/opt/python@3.9/bin/python3.9 -m pip install --upgrade pip' command.\u001b[0m\n",
      "\u001b[33mDEPRECATION: Configuring installation scheme with distutils config files is deprecated and will no longer work in the near future. If you are using a Homebrew or Linuxbrew Python, please see discussion at https://github.com/Homebrew/homebrew-core/issues/76621\u001b[0m\n",
      "Requirement already satisfied: textblob in /usr/local/lib/python3.9/site-packages (0.17.1)\n"
     ]
    },
    {
     "name": "stdout",
     "output_type": "stream",
     "text": [
      "Requirement already satisfied: nltk>=3.1 in /usr/local/lib/python3.9/site-packages (from textblob) (3.6.5)\n",
      "Requirement already satisfied: click in /usr/local/lib/python3.9/site-packages (from nltk>=3.1->textblob) (8.0.3)\n",
      "Requirement already satisfied: tqdm in /usr/local/lib/python3.9/site-packages (from nltk>=3.1->textblob) (4.62.3)\n",
      "Requirement already satisfied: regex>=2021.8.3 in /usr/local/lib/python3.9/site-packages (from nltk>=3.1->textblob) (2021.11.10)\n",
      "Requirement already satisfied: joblib in /usr/local/lib/python3.9/site-packages (from nltk>=3.1->textblob) (1.1.0)\n",
      "\u001b[33mWARNING: You are using pip version 21.3; however, version 22.0.4 is available.\n",
      "You should consider upgrading via the '/usr/local/opt/python@3.9/bin/python3.9 -m pip install --upgrade pip' command.\u001b[0m\n",
      "\u001b[33mDEPRECATION: Configuring installation scheme with distutils config files is deprecated and will no longer work in the near future. If you are using a Homebrew or Linuxbrew Python, please see discussion at https://github.com/Homebrew/homebrew-core/issues/76621\u001b[0m\n",
      "Requirement already satisfied: spacy in /usr/local/lib/python3.9/site-packages (3.2.3)\n",
      "Requirement already satisfied: thinc<8.1.0,>=8.0.12 in /usr/local/lib/python3.9/site-packages (from spacy) (8.0.13)\n",
      "Requirement already satisfied: setuptools in /usr/local/lib/python3.9/site-packages (from spacy) (57.4.0)\n",
      "Requirement already satisfied: catalogue<2.1.0,>=2.0.6 in /usr/local/lib/python3.9/site-packages (from spacy) (2.0.6)\n",
      "Requirement already satisfied: murmurhash<1.1.0,>=0.28.0 in /usr/local/lib/python3.9/site-packages (from spacy) (1.0.6)\n",
      "Requirement already satisfied: blis<0.8.0,>=0.4.0 in /usr/local/lib/python3.9/site-packages (from spacy) (0.7.6)\n",
      "Requirement already satisfied: spacy-legacy<3.1.0,>=3.0.8 in /usr/local/lib/python3.9/site-packages (from spacy) (3.0.9)\n",
      "Requirement already satisfied: pydantic!=1.8,!=1.8.1,<1.9.0,>=1.7.4 in /usr/local/lib/python3.9/site-packages (from spacy) (1.8.2)\n",
      "Requirement already satisfied: cymem<2.1.0,>=2.0.2 in /usr/local/lib/python3.9/site-packages (from spacy) (2.0.6)\n",
      "Requirement already satisfied: srsly<3.0.0,>=2.4.1 in /usr/local/lib/python3.9/site-packages (from spacy) (2.4.2)\n",
      "Requirement already satisfied: langcodes<4.0.0,>=3.2.0 in /usr/local/lib/python3.9/site-packages (from spacy) (3.3.0)\n",
      "Requirement already satisfied: pathy>=0.3.5 in /usr/local/lib/python3.9/site-packages (from spacy) (0.6.1)\n",
      "Requirement already satisfied: jinja2 in /usr/local/lib/python3.9/site-packages (from spacy) (3.0.3)\n",
      "Requirement already satisfied: typer<0.5.0,>=0.3.0 in /usr/local/lib/python3.9/site-packages (from spacy) (0.4.0)\n",
      "Requirement already satisfied: requests<3.0.0,>=2.13.0 in /usr/local/lib/python3.9/site-packages (from spacy) (2.26.0)\n",
      "Requirement already satisfied: tqdm<5.0.0,>=4.38.0 in /usr/local/lib/python3.9/site-packages (from spacy) (4.62.3)\n",
      "Requirement already satisfied: packaging>=20.0 in /usr/local/lib/python3.9/site-packages (from spacy) (21.2)\n",
      "Requirement already satisfied: spacy-loggers<2.0.0,>=1.0.0 in /usr/local/lib/python3.9/site-packages (from spacy) (1.0.1)\n",
      "Requirement already satisfied: numpy>=1.15.0 in /usr/local/lib/python3.9/site-packages (from spacy) (1.22.2)\n",
      "Requirement already satisfied: preshed<3.1.0,>=3.0.2 in /usr/local/lib/python3.9/site-packages (from spacy) (3.0.6)\n",
      "Requirement already satisfied: wasabi<1.1.0,>=0.8.1 in /usr/local/lib/python3.9/site-packages (from spacy) (0.9.0)\n",
      "Requirement already satisfied: pyparsing<3,>=2.0.2 in /usr/local/lib/python3.9/site-packages (from packaging>=20.0->spacy) (2.4.7)\n",
      "Requirement already satisfied: smart-open<6.0.0,>=5.0.0 in /usr/local/lib/python3.9/site-packages (from pathy>=0.3.5->spacy) (5.2.1)\n",
      "Requirement already satisfied: typing-extensions>=3.7.4.3 in /usr/local/lib/python3.9/site-packages (from pydantic!=1.8,!=1.8.1,<1.9.0,>=1.7.4->spacy) (4.0.0)\n",
      "Requirement already satisfied: charset-normalizer~=2.0.0 in /usr/local/lib/python3.9/site-packages (from requests<3.0.0,>=2.13.0->spacy) (2.0.7)\n",
      "Requirement already satisfied: urllib3<1.27,>=1.21.1 in /usr/local/lib/python3.9/site-packages (from requests<3.0.0,>=2.13.0->spacy) (1.26.7)\n",
      "Requirement already satisfied: certifi>=2017.4.17 in /usr/local/lib/python3.9/site-packages (from requests<3.0.0,>=2.13.0->spacy) (2021.10.8)\n",
      "Requirement already satisfied: idna<4,>=2.5 in /usr/local/lib/python3.9/site-packages (from requests<3.0.0,>=2.13.0->spacy) (3.3)\n",
      "Requirement already satisfied: click<9.0.0,>=7.1.1 in /usr/local/lib/python3.9/site-packages (from typer<0.5.0,>=0.3.0->spacy) (8.0.3)\n",
      "Requirement already satisfied: MarkupSafe>=2.0 in /usr/local/lib/python3.9/site-packages (from jinja2->spacy) (2.0.1)\n",
      "\u001b[33mWARNING: You are using pip version 21.3; however, version 22.0.4 is available.\n",
      "You should consider upgrading via the '/usr/local/opt/python@3.9/bin/python3.9 -m pip install --upgrade pip' command.\u001b[0m\n",
      "\u001b[38;5;3m⚠ As of spaCy v3.0, shortcuts like 'en' are deprecated. Please use the\n",
      "full pipeline package name 'en_core_web_sm' instead.\u001b[0m\n",
      "\u001b[33mDEPRECATION: Configuring installation scheme with distutils config files is deprecated and will no longer work in the near future. If you are using a Homebrew or Linuxbrew Python, please see discussion at https://github.com/Homebrew/homebrew-core/issues/76621\u001b[0m\n",
      "Collecting en-core-web-sm==3.2.0\n",
      "  Downloading https://github.com/explosion/spacy-models/releases/download/en_core_web_sm-3.2.0/en_core_web_sm-3.2.0-py3-none-any.whl (13.9 MB)\n",
      "     |████████████████████████████████| 13.9 MB 229 kB/s            \n",
      "\u001b[?25hRequirement already satisfied: spacy<3.3.0,>=3.2.0 in /usr/local/lib/python3.9/site-packages (from en-core-web-sm==3.2.0) (3.2.3)\n",
      "Requirement already satisfied: numpy>=1.15.0 in /usr/local/lib/python3.9/site-packages (from spacy<3.3.0,>=3.2.0->en-core-web-sm==3.2.0) (1.22.2)\n",
      "Requirement already satisfied: langcodes<4.0.0,>=3.2.0 in /usr/local/lib/python3.9/site-packages (from spacy<3.3.0,>=3.2.0->en-core-web-sm==3.2.0) (3.3.0)\n",
      "Requirement already satisfied: spacy-legacy<3.1.0,>=3.0.8 in /usr/local/lib/python3.9/site-packages (from spacy<3.3.0,>=3.2.0->en-core-web-sm==3.2.0) (3.0.9)\n",
      "Requirement already satisfied: pathy>=0.3.5 in /usr/local/lib/python3.9/site-packages (from spacy<3.3.0,>=3.2.0->en-core-web-sm==3.2.0) (0.6.1)\n",
      "Requirement already satisfied: jinja2 in /usr/local/lib/python3.9/site-packages (from spacy<3.3.0,>=3.2.0->en-core-web-sm==3.2.0) (3.0.3)\n",
      "Requirement already satisfied: srsly<3.0.0,>=2.4.1 in /usr/local/lib/python3.9/site-packages (from spacy<3.3.0,>=3.2.0->en-core-web-sm==3.2.0) (2.4.2)\n",
      "Requirement already satisfied: requests<3.0.0,>=2.13.0 in /usr/local/lib/python3.9/site-packages (from spacy<3.3.0,>=3.2.0->en-core-web-sm==3.2.0) (2.26.0)\n",
      "Requirement already satisfied: murmurhash<1.1.0,>=0.28.0 in /usr/local/lib/python3.9/site-packages (from spacy<3.3.0,>=3.2.0->en-core-web-sm==3.2.0) (1.0.6)\n",
      "Requirement already satisfied: thinc<8.1.0,>=8.0.12 in /usr/local/lib/python3.9/site-packages (from spacy<3.3.0,>=3.2.0->en-core-web-sm==3.2.0) (8.0.13)\n",
      "Requirement already satisfied: catalogue<2.1.0,>=2.0.6 in /usr/local/lib/python3.9/site-packages (from spacy<3.3.0,>=3.2.0->en-core-web-sm==3.2.0) (2.0.6)\n",
      "Requirement already satisfied: spacy-loggers<2.0.0,>=1.0.0 in /usr/local/lib/python3.9/site-packages (from spacy<3.3.0,>=3.2.0->en-core-web-sm==3.2.0) (1.0.1)\n",
      "Requirement already satisfied: blis<0.8.0,>=0.4.0 in /usr/local/lib/python3.9/site-packages (from spacy<3.3.0,>=3.2.0->en-core-web-sm==3.2.0) (0.7.6)\n",
      "Requirement already satisfied: typer<0.5.0,>=0.3.0 in /usr/local/lib/python3.9/site-packages (from spacy<3.3.0,>=3.2.0->en-core-web-sm==3.2.0) (0.4.0)\n",
      "Requirement already satisfied: setuptools in /usr/local/lib/python3.9/site-packages (from spacy<3.3.0,>=3.2.0->en-core-web-sm==3.2.0) (57.4.0)\n",
      "Requirement already satisfied: pydantic!=1.8,!=1.8.1,<1.9.0,>=1.7.4 in /usr/local/lib/python3.9/site-packages (from spacy<3.3.0,>=3.2.0->en-core-web-sm==3.2.0) (1.8.2)\n",
      "Requirement already satisfied: cymem<2.1.0,>=2.0.2 in /usr/local/lib/python3.9/site-packages (from spacy<3.3.0,>=3.2.0->en-core-web-sm==3.2.0) (2.0.6)\n",
      "Requirement already satisfied: wasabi<1.1.0,>=0.8.1 in /usr/local/lib/python3.9/site-packages (from spacy<3.3.0,>=3.2.0->en-core-web-sm==3.2.0) (0.9.0)\n",
      "Requirement already satisfied: packaging>=20.0 in /usr/local/lib/python3.9/site-packages (from spacy<3.3.0,>=3.2.0->en-core-web-sm==3.2.0) (21.2)\n",
      "Requirement already satisfied: preshed<3.1.0,>=3.0.2 in /usr/local/lib/python3.9/site-packages (from spacy<3.3.0,>=3.2.0->en-core-web-sm==3.2.0) (3.0.6)\n",
      "Requirement already satisfied: tqdm<5.0.0,>=4.38.0 in /usr/local/lib/python3.9/site-packages (from spacy<3.3.0,>=3.2.0->en-core-web-sm==3.2.0) (4.62.3)\n"
     ]
    },
    {
     "name": "stdout",
     "output_type": "stream",
     "text": [
      "Requirement already satisfied: pyparsing<3,>=2.0.2 in /usr/local/lib/python3.9/site-packages (from packaging>=20.0->spacy<3.3.0,>=3.2.0->en-core-web-sm==3.2.0) (2.4.7)\n",
      "Requirement already satisfied: smart-open<6.0.0,>=5.0.0 in /usr/local/lib/python3.9/site-packages (from pathy>=0.3.5->spacy<3.3.0,>=3.2.0->en-core-web-sm==3.2.0) (5.2.1)\n",
      "Requirement already satisfied: typing-extensions>=3.7.4.3 in /usr/local/lib/python3.9/site-packages (from pydantic!=1.8,!=1.8.1,<1.9.0,>=1.7.4->spacy<3.3.0,>=3.2.0->en-core-web-sm==3.2.0) (4.0.0)\n",
      "Requirement already satisfied: charset-normalizer~=2.0.0 in /usr/local/lib/python3.9/site-packages (from requests<3.0.0,>=2.13.0->spacy<3.3.0,>=3.2.0->en-core-web-sm==3.2.0) (2.0.7)\n",
      "Requirement already satisfied: urllib3<1.27,>=1.21.1 in /usr/local/lib/python3.9/site-packages (from requests<3.0.0,>=2.13.0->spacy<3.3.0,>=3.2.0->en-core-web-sm==3.2.0) (1.26.7)\n",
      "Requirement already satisfied: idna<4,>=2.5 in /usr/local/lib/python3.9/site-packages (from requests<3.0.0,>=2.13.0->spacy<3.3.0,>=3.2.0->en-core-web-sm==3.2.0) (3.3)\n",
      "Requirement already satisfied: certifi>=2017.4.17 in /usr/local/lib/python3.9/site-packages (from requests<3.0.0,>=2.13.0->spacy<3.3.0,>=3.2.0->en-core-web-sm==3.2.0) (2021.10.8)\n",
      "Requirement already satisfied: click<9.0.0,>=7.1.1 in /usr/local/lib/python3.9/site-packages (from typer<0.5.0,>=0.3.0->spacy<3.3.0,>=3.2.0->en-core-web-sm==3.2.0) (8.0.3)\n",
      "Requirement already satisfied: MarkupSafe>=2.0 in /usr/local/lib/python3.9/site-packages (from jinja2->spacy<3.3.0,>=3.2.0->en-core-web-sm==3.2.0) (2.0.1)\n",
      "\u001b[33mWARNING: You are using pip version 21.3; however, version 22.0.4 is available.\n",
      "You should consider upgrading via the '/usr/local/opt/python@3.9/bin/python3.9 -m pip install --upgrade pip' command.\u001b[0m\n",
      "\u001b[38;5;2m✔ Download and installation successful\u001b[0m\n",
      "You can now load the package via spacy.load('en_core_web_sm')\n"
     ]
    }
   ],
   "source": [
    "!pip3 install gensim\n",
    "!pip3 install pyldavis\n",
    "!pip3 install nltk\n",
    "!pip3 install matplotlib\n",
    "!pip3 install seaborn\n",
    "!pip3 install textblob\n",
    "!pip3 install spacy\n",
    "!python3 -m spacy download en "
   ]
  },
  {
   "cell_type": "code",
   "execution_count": 76,
   "id": "eda32cdd",
   "metadata": {},
   "outputs": [
    {
     "name": "stderr",
     "output_type": "stream",
     "text": [
      "[nltk_data] Downloading package stopwords to\n",
      "[nltk_data]     /Users/samridhi/nltk_data...\n",
      "[nltk_data]   Package stopwords is already up-to-date!\n"
     ]
    },
    {
     "data": {
      "text/plain": [
       "True"
      ]
     },
     "execution_count": 76,
     "metadata": {},
     "output_type": "execute_result"
    }
   ],
   "source": [
    "import nltk\n",
    "from nltk import FreqDist\n",
    "nltk.download('stopwords') "
   ]
  },
  {
   "cell_type": "code",
   "execution_count": 77,
   "id": "bc096aa9",
   "metadata": {},
   "outputs": [],
   "source": [
    "pd.set_option(\"display.max_colwidth\", 200)\n",
    "import re\n",
    "import gensim\n",
    "from gensim import corpora\n",
    "\n",
    "# libraries for visualization\n",
    "import pyLDAvis\n",
    "import pyLDAvis.gensim_models as gensimvis\n",
    "import matplotlib.pyplot as plt\n",
    "import seaborn as sns\n",
    "from nltk.stem import WordNetLemmatizer, SnowballStemmer\n",
    "from nltk.stem.porter import *\n",
    "%matplotlib inline"
   ]
  },
  {
   "cell_type": "code",
   "execution_count": 78,
   "id": "2ebcee96",
   "metadata": {},
   "outputs": [],
   "source": [
    "# a function that provides the most frequent words with count on a plot\n",
    "def freq_words(x, terms = 30):\n",
    "  all_words = ' '.join([text for text in x])\n",
    "  all_words = all_words.split()\n",
    "\n",
    "  fdist = FreqDist(all_words)\n",
    "  words_df = pd.DataFrame({'word':list(fdist.keys()), 'count':list(fdist.values())})\n",
    "\n",
    "  # selecting top 20 most frequent words\n",
    "  d = words_df.nlargest(columns=\"count\", n = terms)\n",
    "  print(d)\n",
    "  plt.figure(figsize=(20,5))\n",
    "  ax = sns.barplot(data=d, x= \"word\", y = \"count\")\n",
    "  ax.set(ylabel = 'Count')\n",
    "  plt.show()"
   ]
  },
  {
   "cell_type": "code",
   "execution_count": 79,
   "id": "c9b29b18",
   "metadata": {},
   "outputs": [
    {
     "data": {
      "text/plain": [
       "0        This case looks nice and has plenty of pockets for all the other stuff you have to carry around .But , if you 're using it for something other than back and forth to the office or have a thinner l...\n",
       "1        I bought this one few months back for my Toshiba laptop ... . . the case is quite strong thou a lill small for my 15 '' Toshiba Satellite ... but on the other side this bag is quite strong and stu...\n",
       "2        The pic on this product does no justice to the real thing .Its very good looking -LRB- BLACK synthetic with a sheen -RRB- , and well designed .Isnt one of those huge contraptions that people carry...\n",
       "3        I have an HP Pavilion ze5385us -LRB- ze5300 series -RRB- and this thing fits my laptop perfectly .The front pocket can fit the power supply , an infrared mouse , an infrared transmitter , and a he...\n",
       "4        I 'm very happy with the bag , it exceeded my expectations .My 15 '' Toshiba satellite fits perfectly , I 'm using one of the adjustable paddings to better secure the notebook .It will accomodate ...\n",
       "                                                                                                          ...                                                                                                   \n",
       "42627    The sleeve is much greater than I expected , especially for so cheap .It fits my 13 &#34; Macbook Air perfectly and has the perfect amount of pockets for everything I carry -LRB- even one for my i...\n",
       "42628    I love this case .I really wanted something stylish but protective , and this is perfect !I love that I can fit this in my backpack and that it has really nice padding .The inside is lined with gr...\n",
       "42629    First of all , I used to write reviews for a variety of tech companies in the past but due to my work and school schedule have not been able to receive and review products for the past couple year...\n",
       "42630    As the name implies , this envelop-shaped cover case 14 '' x 9 '' is made specifically to fit the MacBook Air ; but it also can be used for most other mini Laptops .The elegantly designed case is ...\n",
       "42631    Rarely do I buy something that makes me feel like I got way , way more than I paid for .This is a truly well-made , functional and attractive envelope for my Macbook Air .Perfect .Just perfect .Hi...\n",
       "Name: reviews, Length: 42632, dtype: object"
      ]
     },
     "execution_count": 79,
     "metadata": {},
     "output_type": "execute_result"
    }
   ],
   "source": [
    "bags_and_cases['reviews']"
   ]
  },
  {
   "cell_type": "code",
   "execution_count": 80,
   "id": "28747845",
   "metadata": {},
   "outputs": [
    {
     "name": "stdout",
     "output_type": "stream",
     "text": [
      "       word   count\n",
      "11      the  189102\n",
      "20        ,  148622\n",
      "31        a  114941\n",
      "4       and  114493\n",
      "24       it  112842\n",
      "101       I   93174\n",
      "16       to   91100\n",
      "35       is   80012\n",
      "9       for   66089\n",
      "7        of   58539\n",
      "50       my   52623\n",
      "100       .   49783\n",
      "49     this   48801\n",
      "122    that   42583\n",
      "40       in   42154\n",
      "258      .I   40981\n",
      "115     bag   36098\n",
      "66       on   34777\n",
      "1      case   32821\n",
      "131    with   32753\n",
      "114     but   31520\n",
      "33   laptop   30349\n",
      "60      was   28634\n",
      "183    .The   27451\n",
      "37      not   27308\n",
      "15     have   27278\n",
      "300     n't   26322\n",
      "14      you   25600\n",
      "96       's   23514\n",
      "254     .It   23220\n"
     ]
    },
    {
     "data": {
      "image/png": "[encoded data removed]",
      "text/plain": [
       "<Figure size 1440x360 with 1 Axes>"
      ]
     },
     "metadata": {
      "needs_background": "light"
     },
     "output_type": "display_data"
    }
   ],
   "source": [
    "freq_words(bags_and_cases['reviews'])"
   ]
  },
  {
   "cell_type": "code",
   "execution_count": 81,
   "id": "da861b5b",
   "metadata": {},
   "outputs": [
    {
     "name": "stderr",
     "output_type": "stream",
     "text": [
      "/var/folders/gk/w9x3t41958b3mryczvgyr0fr0000gn/T/ipykernel_34613/193494026.py:5: FutureWarning: The default value of regex will change from True to False in a future version.\n",
      "  bags_and_cases['reviews'] = bags_and_cases['reviews'].str.replace(\"[^a-zA-Z#]\", \" \")\n"
     ]
    }
   ],
   "source": [
    "# replace \"n't\" with \" not\"\n",
    "bags_and_cases['reviews']= bags_and_cases['reviews'].str.replace(\"n\\'t\", \" not\")\n",
    "\n",
    "# remove unwanted characters, numbers and symbols\n",
    "bags_and_cases['reviews'] = bags_and_cases['reviews'].str.replace(\"[^a-zA-Z#]\", \" \")"
   ]
  },
  {
   "cell_type": "code",
   "execution_count": 82,
   "id": "6a342c86",
   "metadata": {},
   "outputs": [
    {
     "data": {
      "text/plain": [
       "0        This case looks nice and has plenty of pockets for all the other stuff you have to carry around  But   if you  re using it for something other than back and forth to the office or have a thinner l...\n",
       "1        I bought this one few months back for my Toshiba laptop         the case is quite strong thou a lill small for my       Toshiba Satellite     but on the other side this bag is quite strong and stu...\n",
       "2        The pic on this product does no justice to the real thing  Its very good looking  LRB  BLACK synthetic with a sheen  RRB    and well designed  Isnt one of those huge contraptions that people carry...\n",
       "3        I have an HP Pavilion ze    us  LRB  ze     series  RRB  and this thing fits my laptop perfectly  The front pocket can fit the power supply   an infrared mouse   an infrared transmitter   and a he...\n",
       "4        I  m very happy with the bag   it exceeded my expectations  My       Toshiba satellite fits perfectly   I  m using one of the adjustable paddings to better secure the notebook  It will accomodate ...\n",
       "                                                                                                          ...                                                                                                   \n",
       "42627    The sleeve is much greater than I expected   especially for so cheap  It fits my     #    Macbook Air perfectly and has the perfect amount of pockets for everything I carry  LRB  even one for my i...\n",
       "42628    I love this case  I really wanted something stylish but protective   and this is perfect  I love that I can fit this in my backpack and that it has really nice padding  The inside is lined with gr...\n",
       "42629    First of all   I used to write reviews for a variety of tech companies in the past but due to my work and school schedule have not been able to receive and review products for the past couple year...\n",
       "42630    As the name implies   this envelop shaped cover case       x      is made specifically to fit the MacBook Air   but it also can be used for most other mini Laptops  The elegantly designed case is ...\n",
       "42631    Rarely do I buy something that makes me feel like I got way   way more than I paid for  This is a truly well made   functional and attractive envelope for my Macbook Air  Perfect  Just perfect  Hi...\n",
       "Name: reviews, Length: 42632, dtype: object"
      ]
     },
     "execution_count": 82,
     "metadata": {},
     "output_type": "execute_result"
    }
   ],
   "source": [
    "bags_and_cases['reviews']"
   ]
  },
  {
   "cell_type": "code",
   "execution_count": 83,
   "id": "86aa8e63",
   "metadata": {},
   "outputs": [
    {
     "name": "stdout",
     "output_type": "stream",
     "text": [
      "       word   count\n",
      "11      the  189246\n",
      "98        I  137737\n",
      "30        a  115028\n",
      "4       and  114739\n",
      "23       it  112956\n",
      "16       to   91284\n",
      "34       is   80025\n",
      "9       for   66104\n",
      "7        of   58580\n",
      "36      not   53677\n",
      "49       my   52631\n",
      "48     this   48812\n",
      "39       in   42858\n",
      "116    that   42591\n",
      "109     bag   36285\n",
      "65       on   35432\n",
      "155     The   33750\n",
      "1      case   33020\n",
      "125    with   32763\n",
      "108     but   31536\n",
      "32   laptop   30618\n",
      "59      was   28638\n",
      "241      It   27478\n",
      "15     have   27297\n",
      "14      you   25615\n",
      "94        s   23886\n",
      "364      as   20629\n",
      "260      so   17698\n",
      "151    very   17695\n",
      "351    like   17289\n"
     ]
    },
    {
     "data": {
      "image/png": "[encoded data removed]",
      "text/plain": [
       "<Figure size 1440x360 with 1 Axes>"
      ]
     },
     "metadata": {
      "needs_background": "light"
     },
     "output_type": "display_data"
    }
   ],
   "source": [
    "freq_words(bags_and_cases['reviews'])"
   ]
  },
  {
   "cell_type": "markdown",
   "id": "2093b1ac",
   "metadata": {},
   "source": [
    "#### Checking stopwords in the reviews"
   ]
  },
  {
   "cell_type": "code",
   "execution_count": 84,
   "id": "b8cb58e2",
   "metadata": {},
   "outputs": [],
   "source": [
    "from nltk.corpus import stopwords\n",
    "stop_words = stopwords.words('english')"
   ]
  },
  {
   "cell_type": "code",
   "execution_count": 85,
   "id": "e2818798",
   "metadata": {},
   "outputs": [
    {
     "data": {
      "text/html": [
       "<div>\n",
       "<style scoped>\n",
       "    .dataframe tbody tr th:only-of-type {\n",
       "        vertical-align: middle;\n",
       "    }\n",
       "\n",
       "    .dataframe tbody tr th {\n",
       "        vertical-align: top;\n",
       "    }\n",
       "\n",
       "    .dataframe thead th {\n",
       "        text-align: right;\n",
       "    }\n",
       "</style>\n",
       "<table border=\"1\" class=\"dataframe\">\n",
       "  <thead>\n",
       "    <tr style=\"text-align: right;\">\n",
       "      <th></th>\n",
       "      <th>reviews</th>\n",
       "      <th>stopwords</th>\n",
       "    </tr>\n",
       "  </thead>\n",
       "  <tbody>\n",
       "    <tr>\n",
       "      <th>0</th>\n",
       "      <td>This case looks nice and has plenty of pockets for all the other stuff you have to carry around  But   if you  re using it for something other than back and forth to the office or have a thinner l...</td>\n",
       "      <td>76</td>\n",
       "    </tr>\n",
       "    <tr>\n",
       "      <th>1</th>\n",
       "      <td>I bought this one few months back for my Toshiba laptop         the case is quite strong thou a lill small for my       Toshiba Satellite     but on the other side this bag is quite strong and stu...</td>\n",
       "      <td>44</td>\n",
       "    </tr>\n",
       "    <tr>\n",
       "      <th>2</th>\n",
       "      <td>The pic on this product does no justice to the real thing  Its very good looking  LRB  BLACK synthetic with a sheen  RRB    and well designed  Isnt one of those huge contraptions that people carry...</td>\n",
       "      <td>26</td>\n",
       "    </tr>\n",
       "    <tr>\n",
       "      <th>3</th>\n",
       "      <td>I have an HP Pavilion ze    us  LRB  ze     series  RRB  and this thing fits my laptop perfectly  The front pocket can fit the power supply   an infrared mouse   an infrared transmitter   and a he...</td>\n",
       "      <td>38</td>\n",
       "    </tr>\n",
       "    <tr>\n",
       "      <th>4</th>\n",
       "      <td>I  m very happy with the bag   it exceeded my expectations  My       Toshiba satellite fits perfectly   I  m using one of the adjustable paddings to better secure the notebook  It will accomodate ...</td>\n",
       "      <td>32</td>\n",
       "    </tr>\n",
       "  </tbody>\n",
       "</table>\n",
       "</div>"
      ],
      "text/plain": [
       "                                                                                                                                                                                                   reviews  \\\n",
       "0  This case looks nice and has plenty of pockets for all the other stuff you have to carry around  But   if you  re using it for something other than back and forth to the office or have a thinner l...   \n",
       "1  I bought this one few months back for my Toshiba laptop         the case is quite strong thou a lill small for my       Toshiba Satellite     but on the other side this bag is quite strong and stu...   \n",
       "2  The pic on this product does no justice to the real thing  Its very good looking  LRB  BLACK synthetic with a sheen  RRB    and well designed  Isnt one of those huge contraptions that people carry...   \n",
       "3  I have an HP Pavilion ze    us  LRB  ze     series  RRB  and this thing fits my laptop perfectly  The front pocket can fit the power supply   an infrared mouse   an infrared transmitter   and a he...   \n",
       "4  I  m very happy with the bag   it exceeded my expectations  My       Toshiba satellite fits perfectly   I  m using one of the adjustable paddings to better secure the notebook  It will accomodate ...   \n",
       "\n",
       "   stopwords  \n",
       "0         76  \n",
       "1         44  \n",
       "2         26  \n",
       "3         38  \n",
       "4         32  "
      ]
     },
     "execution_count": 85,
     "metadata": {},
     "output_type": "execute_result"
    }
   ],
   "source": [
    "# Checking the number of stopwords in each review\n",
    "bags_and_cases['stopwords'] = bags_and_cases['reviews'].apply(lambda x: len([x for x in x.split() if x in stop_words]))\n",
    "bags_and_cases[['reviews','stopwords']].head()"
   ]
  },
  {
   "cell_type": "code",
   "execution_count": 86,
   "id": "ea65e649",
   "metadata": {},
   "outputs": [],
   "source": [
    "# function to remove stopwords\n",
    "def remove_stopwords(rev):\n",
    "  rev_new = \" \".join([i for i in rev if i not in stop_words])\n",
    "  return rev_new"
   ]
  },
  {
   "cell_type": "code",
   "execution_count": 87,
   "id": "c2857d56",
   "metadata": {},
   "outputs": [
    {
     "data": {
      "text/plain": [
       "0        This case looks nice and has plenty of pockets for all the other stuff you have to carry around  But   if you  re using it for something other than back and forth to the office or have a thinner l...\n",
       "1        I bought this one few months back for my Toshiba laptop         the case is quite strong thou a lill small for my       Toshiba Satellite     but on the other side this bag is quite strong and stu...\n",
       "2        The pic on this product does no justice to the real thing  Its very good looking  LRB  BLACK synthetic with a sheen  RRB    and well designed  Isnt one of those huge contraptions that people carry...\n",
       "3        I have an HP Pavilion ze    us  LRB  ze     series  RRB  and this thing fits my laptop perfectly  The front pocket can fit the power supply   an infrared mouse   an infrared transmitter   and a he...\n",
       "4        I  m very happy with the bag   it exceeded my expectations  My       Toshiba satellite fits perfectly   I  m using one of the adjustable paddings to better secure the notebook  It will accomodate ...\n",
       "                                                                                                          ...                                                                                                   \n",
       "42627    The sleeve is much greater than I expected   especially for so cheap  It fits my     #    Macbook Air perfectly and has the perfect amount of pockets for everything I carry  LRB  even one for my i...\n",
       "42628    I love this case  I really wanted something stylish but protective   and this is perfect  I love that I can fit this in my backpack and that it has really nice padding  The inside is lined with gr...\n",
       "42629    First of all   I used to write reviews for a variety of tech companies in the past but due to my work and school schedule have not been able to receive and review products for the past couple year...\n",
       "42630    As the name implies   this envelop shaped cover case       x      is made specifically to fit the MacBook Air   but it also can be used for most other mini Laptops  The elegantly designed case is ...\n",
       "42631    Rarely do I buy something that makes me feel like I got way   way more than I paid for  This is a truly well made   functional and attractive envelope for my Macbook Air  Perfect  Just perfect  Hi...\n",
       "Name: reviews, Length: 42632, dtype: object"
      ]
     },
     "execution_count": 87,
     "metadata": {},
     "output_type": "execute_result"
    }
   ],
   "source": [
    "bags_and_cases['reviews']"
   ]
  },
  {
   "cell_type": "markdown",
   "id": "3d7539ae",
   "metadata": {},
   "source": [
    "#### Checking punctuation present in the reviews"
   ]
  },
  {
   "cell_type": "code",
   "execution_count": 88,
   "id": "28d3853f",
   "metadata": {},
   "outputs": [
    {
     "name": "stderr",
     "output_type": "stream",
     "text": [
      "[nltk_data] Downloading package punkt to /Users/samridhi/nltk_data...\n",
      "[nltk_data]   Package punkt is already up-to-date!\n"
     ]
    }
   ],
   "source": [
    "import string\n",
    "nltk.download('punkt')\n",
    "def count_punctuation(text):\n",
    "    count = sum([1 for char in text if char in string.punctuation])\n",
    "    return count\n",
    "\n",
    "bags_and_cases['punctuation'] = bags_and_cases['reviews'].apply(lambda x: count_punctuation(x))\n"
   ]
  },
  {
   "cell_type": "code",
   "execution_count": 89,
   "id": "9d7b1668",
   "metadata": {},
   "outputs": [
    {
     "data": {
      "text/html": [
       "<div>\n",
       "<style scoped>\n",
       "    .dataframe tbody tr th:only-of-type {\n",
       "        vertical-align: middle;\n",
       "    }\n",
       "\n",
       "    .dataframe tbody tr th {\n",
       "        vertical-align: top;\n",
       "    }\n",
       "\n",
       "    .dataframe thead th {\n",
       "        text-align: right;\n",
       "    }\n",
       "</style>\n",
       "<table border=\"1\" class=\"dataframe\">\n",
       "  <thead>\n",
       "    <tr style=\"text-align: right;\">\n",
       "      <th></th>\n",
       "      <th>reviews</th>\n",
       "      <th>punctuation</th>\n",
       "    </tr>\n",
       "  </thead>\n",
       "  <tbody>\n",
       "    <tr>\n",
       "      <th>0</th>\n",
       "      <td>This case looks nice and has plenty of pockets for all the other stuff you have to carry around  But   if you  re using it for something other than back and forth to the office or have a thinner l...</td>\n",
       "      <td>0</td>\n",
       "    </tr>\n",
       "    <tr>\n",
       "      <th>1</th>\n",
       "      <td>I bought this one few months back for my Toshiba laptop         the case is quite strong thou a lill small for my       Toshiba Satellite     but on the other side this bag is quite strong and stu...</td>\n",
       "      <td>0</td>\n",
       "    </tr>\n",
       "    <tr>\n",
       "      <th>2</th>\n",
       "      <td>The pic on this product does no justice to the real thing  Its very good looking  LRB  BLACK synthetic with a sheen  RRB    and well designed  Isnt one of those huge contraptions that people carry...</td>\n",
       "      <td>0</td>\n",
       "    </tr>\n",
       "    <tr>\n",
       "      <th>3</th>\n",
       "      <td>I have an HP Pavilion ze    us  LRB  ze     series  RRB  and this thing fits my laptop perfectly  The front pocket can fit the power supply   an infrared mouse   an infrared transmitter   and a he...</td>\n",
       "      <td>0</td>\n",
       "    </tr>\n",
       "    <tr>\n",
       "      <th>4</th>\n",
       "      <td>I  m very happy with the bag   it exceeded my expectations  My       Toshiba satellite fits perfectly   I  m using one of the adjustable paddings to better secure the notebook  It will accomodate ...</td>\n",
       "      <td>0</td>\n",
       "    </tr>\n",
       "    <tr>\n",
       "      <th>...</th>\n",
       "      <td>...</td>\n",
       "      <td>...</td>\n",
       "    </tr>\n",
       "    <tr>\n",
       "      <th>42627</th>\n",
       "      <td>The sleeve is much greater than I expected   especially for so cheap  It fits my     #    Macbook Air perfectly and has the perfect amount of pockets for everything I carry  LRB  even one for my i...</td>\n",
       "      <td>1</td>\n",
       "    </tr>\n",
       "    <tr>\n",
       "      <th>42628</th>\n",
       "      <td>I love this case  I really wanted something stylish but protective   and this is perfect  I love that I can fit this in my backpack and that it has really nice padding  The inside is lined with gr...</td>\n",
       "      <td>0</td>\n",
       "    </tr>\n",
       "    <tr>\n",
       "      <th>42629</th>\n",
       "      <td>First of all   I used to write reviews for a variety of tech companies in the past but due to my work and school schedule have not been able to receive and review products for the past couple year...</td>\n",
       "      <td>3</td>\n",
       "    </tr>\n",
       "    <tr>\n",
       "      <th>42630</th>\n",
       "      <td>As the name implies   this envelop shaped cover case       x      is made specifically to fit the MacBook Air   but it also can be used for most other mini Laptops  The elegantly designed case is ...</td>\n",
       "      <td>1</td>\n",
       "    </tr>\n",
       "    <tr>\n",
       "      <th>42631</th>\n",
       "      <td>Rarely do I buy something that makes me feel like I got way   way more than I paid for  This is a truly well made   functional and attractive envelope for my Macbook Air  Perfect  Just perfect  Hi...</td>\n",
       "      <td>0</td>\n",
       "    </tr>\n",
       "  </tbody>\n",
       "</table>\n",
       "<p>42632 rows × 2 columns</p>\n",
       "</div>"
      ],
      "text/plain": [
       "                                                                                                                                                                                                       reviews  \\\n",
       "0      This case looks nice and has plenty of pockets for all the other stuff you have to carry around  But   if you  re using it for something other than back and forth to the office or have a thinner l...   \n",
       "1      I bought this one few months back for my Toshiba laptop         the case is quite strong thou a lill small for my       Toshiba Satellite     but on the other side this bag is quite strong and stu...   \n",
       "2      The pic on this product does no justice to the real thing  Its very good looking  LRB  BLACK synthetic with a sheen  RRB    and well designed  Isnt one of those huge contraptions that people carry...   \n",
       "3      I have an HP Pavilion ze    us  LRB  ze     series  RRB  and this thing fits my laptop perfectly  The front pocket can fit the power supply   an infrared mouse   an infrared transmitter   and a he...   \n",
       "4      I  m very happy with the bag   it exceeded my expectations  My       Toshiba satellite fits perfectly   I  m using one of the adjustable paddings to better secure the notebook  It will accomodate ...   \n",
       "...                                                                                                                                                                                                        ...   \n",
       "42627  The sleeve is much greater than I expected   especially for so cheap  It fits my     #    Macbook Air perfectly and has the perfect amount of pockets for everything I carry  LRB  even one for my i...   \n",
       "42628  I love this case  I really wanted something stylish but protective   and this is perfect  I love that I can fit this in my backpack and that it has really nice padding  The inside is lined with gr...   \n",
       "42629  First of all   I used to write reviews for a variety of tech companies in the past but due to my work and school schedule have not been able to receive and review products for the past couple year...   \n",
       "42630  As the name implies   this envelop shaped cover case       x      is made specifically to fit the MacBook Air   but it also can be used for most other mini Laptops  The elegantly designed case is ...   \n",
       "42631  Rarely do I buy something that makes me feel like I got way   way more than I paid for  This is a truly well made   functional and attractive envelope for my Macbook Air  Perfect  Just perfect  Hi...   \n",
       "\n",
       "       punctuation  \n",
       "0                0  \n",
       "1                0  \n",
       "2                0  \n",
       "3                0  \n",
       "4                0  \n",
       "...            ...  \n",
       "42627            1  \n",
       "42628            0  \n",
       "42629            3  \n",
       "42630            1  \n",
       "42631            0  \n",
       "\n",
       "[42632 rows x 2 columns]"
      ]
     },
     "execution_count": 89,
     "metadata": {},
     "output_type": "execute_result"
    }
   ],
   "source": [
    "bags_and_cases[['reviews','punctuation']]"
   ]
  },
  {
   "cell_type": "markdown",
   "id": "211ee8d2",
   "metadata": {},
   "source": [
    "#### Checking hastags present in the review text"
   ]
  },
  {
   "cell_type": "code",
   "execution_count": 90,
   "id": "508dd9b2",
   "metadata": {},
   "outputs": [
    {
     "data": {
      "text/plain": [
       "7040"
      ]
     },
     "execution_count": 90,
     "metadata": {},
     "output_type": "execute_result"
    }
   ],
   "source": [
    "bags_and_cases['hastags'] = bags_and_cases['reviews'].apply(lambda x: len([x for x in x.split() if x.startswith('#')]))\n",
    "bags_and_cases['hastags'].sum()"
   ]
  },
  {
   "cell_type": "code",
   "execution_count": 91,
   "id": "8135cde1",
   "metadata": {},
   "outputs": [
    {
     "data": {
      "text/plain": [
       "3793"
      ]
     },
     "execution_count": 91,
     "metadata": {},
     "output_type": "execute_result"
    }
   ],
   "source": [
    "bags_and_cases.hastags.loc[bags_and_cases.hastags != 0].count()"
   ]
  },
  {
   "cell_type": "markdown",
   "id": "8cd5535d",
   "metadata": {},
   "source": [
    "#### Checking numerics from the reviews"
   ]
  },
  {
   "cell_type": "code",
   "execution_count": 92,
   "id": "295c25bd",
   "metadata": {},
   "outputs": [
    {
     "data": {
      "text/plain": [
       "0"
      ]
     },
     "execution_count": 92,
     "metadata": {},
     "output_type": "execute_result"
    }
   ],
   "source": [
    "bags_and_cases['numerics'] = bags_and_cases['reviews'].apply(lambda x: len([x for x in x.split() if x.isdigit()]))\n",
    "bags_and_cases['numerics'].sum()"
   ]
  },
  {
   "cell_type": "markdown",
   "id": "0fc4db40",
   "metadata": {},
   "source": [
    "#### Checking the words which are in uppercase, which may be significant"
   ]
  },
  {
   "cell_type": "code",
   "execution_count": 93,
   "id": "5e883451",
   "metadata": {},
   "outputs": [
    {
     "data": {
      "text/plain": [
       "31662"
      ]
     },
     "execution_count": 93,
     "metadata": {},
     "output_type": "execute_result"
    }
   ],
   "source": [
    "bags_and_cases['upper'] = bags_and_cases['reviews'].apply(lambda x: len([x for x in x.split() if x.isupper()]))\n",
    "bags_and_cases['reviews'][bags_and_cases['upper'] > 1].count()"
   ]
  },
  {
   "cell_type": "code",
   "execution_count": 94,
   "id": "4fd4685f",
   "metadata": {},
   "outputs": [
    {
     "data": {
      "text/plain": [
       "0        This case looks nice and has plenty of pockets for all the other stuff you have to carry around  But   if you  re using it for something other than back and forth to the office or have a thinner l...\n",
       "1        I bought this one few months back for my Toshiba laptop         the case is quite strong thou a lill small for my       Toshiba Satellite     but on the other side this bag is quite strong and stu...\n",
       "2        The pic on this product does no justice to the real thing  Its very good looking  LRB  BLACK synthetic with a sheen  RRB    and well designed  Isnt one of those huge contraptions that people carry...\n",
       "3        I have an HP Pavilion ze    us  LRB  ze     series  RRB  and this thing fits my laptop perfectly  The front pocket can fit the power supply   an infrared mouse   an infrared transmitter   and a he...\n",
       "4        I  m very happy with the bag   it exceeded my expectations  My       Toshiba satellite fits perfectly   I  m using one of the adjustable paddings to better secure the notebook  It will accomodate ...\n",
       "                                                                                                          ...                                                                                                   \n",
       "42627    The sleeve is much greater than I expected   especially for so cheap  It fits my     #    Macbook Air perfectly and has the perfect amount of pockets for everything I carry  LRB  even one for my i...\n",
       "42628    I love this case  I really wanted something stylish but protective   and this is perfect  I love that I can fit this in my backpack and that it has really nice padding  The inside is lined with gr...\n",
       "42629    First of all   I used to write reviews for a variety of tech companies in the past but due to my work and school schedule have not been able to receive and review products for the past couple year...\n",
       "42630    As the name implies   this envelop shaped cover case       x      is made specifically to fit the MacBook Air   but it also can be used for most other mini Laptops  The elegantly designed case is ...\n",
       "42631    Rarely do I buy something that makes me feel like I got way   way more than I paid for  This is a truly well made   functional and attractive envelope for my Macbook Air  Perfect  Just perfect  Hi...\n",
       "Name: reviews, Length: 42632, dtype: object"
      ]
     },
     "execution_count": 94,
     "metadata": {},
     "output_type": "execute_result"
    }
   ],
   "source": [
    "bags_and_cases['reviews']"
   ]
  },
  {
   "cell_type": "markdown",
   "id": "f6c54356",
   "metadata": {},
   "source": [
    "#### Cleaning steps"
   ]
  },
  {
   "cell_type": "code",
   "execution_count": 95,
   "id": "69a148ca",
   "metadata": {},
   "outputs": [
    {
     "name": "stderr",
     "output_type": "stream",
     "text": [
      "<>:5: DeprecationWarning: invalid escape sequence \\w\n",
      "<>:5: DeprecationWarning: invalid escape sequence \\w\n",
      "/var/folders/gk/w9x3t41958b3mryczvgyr0fr0000gn/T/ipykernel_34613/1645673243.py:5: DeprecationWarning: invalid escape sequence \\w\n",
      "  bags_and_cases['reviews'] = bags_and_cases['reviews'].str.replace('[^\\w\\s]','')\n",
      "/var/folders/gk/w9x3t41958b3mryczvgyr0fr0000gn/T/ipykernel_34613/1645673243.py:5: FutureWarning: The default value of regex will change from True to False in a future version.\n",
      "  bags_and_cases['reviews'] = bags_and_cases['reviews'].str.replace('[^\\w\\s]','')\n"
     ]
    }
   ],
   "source": [
    "\n",
    "\n",
    "# remove short words whose (length < 3)\n",
    "bags_and_cases['reviews'] = bags_and_cases['reviews'].apply(lambda x: ' '.join([w for w in x.split() if len(w)>2]))\n",
    "\n",
    "# removing puctuations\n",
    "bags_and_cases['reviews'] = bags_and_cases['reviews'].str.replace('[^\\w\\s]','')\n",
    "bags_and_cases['reviews'].head()\n",
    "\n",
    "# make entire review text lowercase\n",
    "reviews = [r.lower() for r in bags_and_cases['reviews']]\n",
    "\n",
    "# remove stopwords from the reviews\n",
    "reviews = [remove_stopwords(r.split()) for r in reviews]\n",
    "\n",
    "\n"
   ]
  },
  {
   "cell_type": "code",
   "execution_count": 96,
   "id": "e3fb79a3",
   "metadata": {},
   "outputs": [
    {
     "data": {
      "text/plain": [
       "0        This case looks nice and has plenty pockets for all the other stuff you have carry around But you using for something other than back and forth the office have thinner laptop there just not enough...\n",
       "1        bought this one few months back for Toshiba laptop the case quite strong thou lill small for Toshiba Satellite but the other side this bag quite strong and sturdy and compact too thinking that can...\n",
       "2        The pic this product does justice the real thing Its very good looking LRB BLACK synthetic with sheen RRB and well designed Isnt one those huge contraptions that people carry The hand and shoulder...\n",
       "3        have Pavilion LRB series RRB and this thing fits laptop perfectly The front pocket can fit the power supply infrared mouse infrared transmitter and headphone just fine There another large pocket i...\n",
       "4        very happy with the bag exceeded expectations Toshiba satellite fits perfectly using one the adjustable paddings better secure the notebook will accomodate thicker laptops yours really thin you mi...\n",
       "                                                                                                          ...                                                                                                   \n",
       "42627    The sleeve much greater than expected especially for cheap fits Macbook Air perfectly and has the perfect amount pockets for everything carry LRB even one for iPad seems decently made product but ...\n",
       "42628    love this case really wanted something stylish but protective and this perfect love that can fit this backpack and that has really nice padding The inside lined with gray suede and really protects...\n",
       "42629    First all used write reviews for variety tech companies the past but due work and school schedule have not been able receive and review products for the past couple years However since got new Mac...\n",
       "42630    the name implies this envelop shaped cover case made specifically fit the MacBook Air but also can used for most other mini Laptops The elegantly designed case made sturdy but soft LRB thick RRB h...\n",
       "42631              Rarely buy something that makes feel like got way way more than paid for This truly well made functional and attractive envelope for Macbook Air Perfect Just perfect Highly highly recommend\n",
       "Name: reviews, Length: 42632, dtype: object"
      ]
     },
     "execution_count": 96,
     "metadata": {},
     "output_type": "execute_result"
    }
   ],
   "source": [
    "bags_and_cases['reviews']"
   ]
  },
  {
   "cell_type": "code",
   "execution_count": 97,
   "id": "78bd5e27",
   "metadata": {
    "scrolled": true
   },
   "outputs": [
    {
     "name": "stdout",
     "output_type": "stream",
     "text": [
      "         word  count\n",
      "63        bag  36789\n",
      "0        case  34659\n",
      "14     laptop  31626\n",
      "26        one  18103\n",
      "254      like  17645\n",
      "101       rrb  17282\n",
      "168     would  17147\n",
      "97        lrb  15850\n",
      "189     great  14911\n",
      "102      well  14692\n",
      "137       fit  14236\n",
      "73       good  11867\n",
      "272  backpack  11328\n",
      "117      fits  10953\n",
      "721   macbook  10949\n",
      "147       use  10614\n",
      "179    really   9568\n",
      "67       also   9451\n",
      "18   computer   9247\n",
      "240    sleeve   9032\n",
      "6       carry   8784\n",
      "37     little   8779\n",
      "93    product   8740\n",
      "2        nice   8348\n",
      "28      cover   8177\n",
      "676       get   8056\n",
      "10       back   7654\n",
      "136    pocket   7625\n",
      "629      love   7363\n",
      "4     pockets   7327\n",
      "21     bought   7067\n",
      "377      much   7047\n",
      "246     strap   6633\n",
      "74    quality   6617\n",
      "91      price   6516\n"
     ]
    },
    {
     "data": {
      "image/png": "[encoded data removed]",
      "text/plain": [
       "<Figure size 1440x360 with 1 Axes>"
      ]
     },
     "metadata": {
      "needs_background": "light"
     },
     "output_type": "display_data"
    }
   ],
   "source": [
    "freq_words(reviews, 35)"
   ]
  },
  {
   "cell_type": "code",
   "execution_count": 98,
   "id": "d62e3302",
   "metadata": {},
   "outputs": [
    {
     "name": "stdout",
     "output_type": "stream",
     "text": [
      "\u001b[33mDEPRECATION: Configuring installation scheme with distutils config files is deprecated and will no longer work in the near future. If you are using a Homebrew or Linuxbrew Python, please see discussion at https://github.com/Homebrew/homebrew-core/issues/76621\u001b[0m\n",
      "Requirement already satisfied: spacy in /usr/local/lib/python3.9/site-packages (3.2.3)\n",
      "Requirement already satisfied: preshed<3.1.0,>=3.0.2 in /usr/local/lib/python3.9/site-packages (from spacy) (3.0.6)\n",
      "Requirement already satisfied: numpy>=1.15.0 in /usr/local/lib/python3.9/site-packages (from spacy) (1.22.2)\n",
      "Requirement already satisfied: pydantic!=1.8,!=1.8.1,<1.9.0,>=1.7.4 in /usr/local/lib/python3.9/site-packages (from spacy) (1.8.2)\n",
      "Requirement already satisfied: typer<0.5.0,>=0.3.0 in /usr/local/lib/python3.9/site-packages (from spacy) (0.4.0)\n",
      "Requirement already satisfied: spacy-legacy<3.1.0,>=3.0.8 in /usr/local/lib/python3.9/site-packages (from spacy) (3.0.9)\n",
      "Requirement already satisfied: blis<0.8.0,>=0.4.0 in /usr/local/lib/python3.9/site-packages (from spacy) (0.7.6)\n",
      "Requirement already satisfied: wasabi<1.1.0,>=0.8.1 in /usr/local/lib/python3.9/site-packages (from spacy) (0.9.0)\n",
      "Requirement already satisfied: thinc<8.1.0,>=8.0.12 in /usr/local/lib/python3.9/site-packages (from spacy) (8.0.13)\n",
      "Requirement already satisfied: tqdm<5.0.0,>=4.38.0 in /usr/local/lib/python3.9/site-packages (from spacy) (4.62.3)\n",
      "Requirement already satisfied: requests<3.0.0,>=2.13.0 in /usr/local/lib/python3.9/site-packages (from spacy) (2.26.0)\n",
      "Requirement already satisfied: jinja2 in /usr/local/lib/python3.9/site-packages (from spacy) (3.0.3)\n",
      "Requirement already satisfied: catalogue<2.1.0,>=2.0.6 in /usr/local/lib/python3.9/site-packages (from spacy) (2.0.6)\n",
      "Requirement already satisfied: setuptools in /usr/local/lib/python3.9/site-packages (from spacy) (57.4.0)\n",
      "Requirement already satisfied: pathy>=0.3.5 in /usr/local/lib/python3.9/site-packages (from spacy) (0.6.1)\n",
      "Requirement already satisfied: cymem<2.1.0,>=2.0.2 in /usr/local/lib/python3.9/site-packages (from spacy) (2.0.6)\n",
      "Requirement already satisfied: spacy-loggers<2.0.0,>=1.0.0 in /usr/local/lib/python3.9/site-packages (from spacy) (1.0.1)\n",
      "Requirement already satisfied: packaging>=20.0 in /usr/local/lib/python3.9/site-packages (from spacy) (21.2)\n",
      "Requirement already satisfied: srsly<3.0.0,>=2.4.1 in /usr/local/lib/python3.9/site-packages (from spacy) (2.4.2)\n",
      "Requirement already satisfied: murmurhash<1.1.0,>=0.28.0 in /usr/local/lib/python3.9/site-packages (from spacy) (1.0.6)\n",
      "Requirement already satisfied: langcodes<4.0.0,>=3.2.0 in /usr/local/lib/python3.9/site-packages (from spacy) (3.3.0)\n",
      "Requirement already satisfied: pyparsing<3,>=2.0.2 in /usr/local/lib/python3.9/site-packages (from packaging>=20.0->spacy) (2.4.7)\n",
      "Requirement already satisfied: smart-open<6.0.0,>=5.0.0 in /usr/local/lib/python3.9/site-packages (from pathy>=0.3.5->spacy) (5.2.1)\n",
      "Requirement already satisfied: typing-extensions>=3.7.4.3 in /usr/local/lib/python3.9/site-packages (from pydantic!=1.8,!=1.8.1,<1.9.0,>=1.7.4->spacy) (4.0.0)\n",
      "Requirement already satisfied: idna<4,>=2.5 in /usr/local/lib/python3.9/site-packages (from requests<3.0.0,>=2.13.0->spacy) (3.3)\n",
      "Requirement already satisfied: urllib3<1.27,>=1.21.1 in /usr/local/lib/python3.9/site-packages (from requests<3.0.0,>=2.13.0->spacy) (1.26.7)\n",
      "Requirement already satisfied: charset-normalizer~=2.0.0 in /usr/local/lib/python3.9/site-packages (from requests<3.0.0,>=2.13.0->spacy) (2.0.7)\n",
      "Requirement already satisfied: certifi>=2017.4.17 in /usr/local/lib/python3.9/site-packages (from requests<3.0.0,>=2.13.0->spacy) (2021.10.8)\n",
      "Requirement already satisfied: click<9.0.0,>=7.1.1 in /usr/local/lib/python3.9/site-packages (from typer<0.5.0,>=0.3.0->spacy) (8.0.3)\n",
      "Requirement already satisfied: MarkupSafe>=2.0 in /usr/local/lib/python3.9/site-packages (from jinja2->spacy) (2.0.1)\n",
      "\u001b[33mWARNING: You are using pip version 21.3; however, version 22.0.4 is available.\n",
      "You should consider upgrading via the '/usr/local/opt/python@3.9/bin/python3.9 -m pip install --upgrade pip' command.\u001b[0m\n",
      "\u001b[38;5;3m⚠ As of spaCy v3.0, shortcuts like 'en' are deprecated. Please use the\n",
      "full pipeline package name 'en_core_web_sm' instead.\u001b[0m\n",
      "\u001b[33mDEPRECATION: Configuring installation scheme with distutils config files is deprecated and will no longer work in the near future. If you are using a Homebrew or Linuxbrew Python, please see discussion at https://github.com/Homebrew/homebrew-core/issues/76621\u001b[0m\n",
      "Collecting en-core-web-sm==3.2.0\n",
      "  Downloading https://github.com/explosion/spacy-models/releases/download/en_core_web_sm-3.2.0/en_core_web_sm-3.2.0-py3-none-any.whl (13.9 MB)\n",
      "     |████████████████████████████████| 13.9 MB 8.1 MB/s            \n",
      "\u001b[?25hRequirement already satisfied: spacy<3.3.0,>=3.2.0 in /usr/local/lib/python3.9/site-packages (from en-core-web-sm==3.2.0) (3.2.3)\n",
      "Requirement already satisfied: packaging>=20.0 in /usr/local/lib/python3.9/site-packages (from spacy<3.3.0,>=3.2.0->en-core-web-sm==3.2.0) (21.2)\n",
      "Requirement already satisfied: blis<0.8.0,>=0.4.0 in /usr/local/lib/python3.9/site-packages (from spacy<3.3.0,>=3.2.0->en-core-web-sm==3.2.0) (0.7.6)\n",
      "Requirement already satisfied: murmurhash<1.1.0,>=0.28.0 in /usr/local/lib/python3.9/site-packages (from spacy<3.3.0,>=3.2.0->en-core-web-sm==3.2.0) (1.0.6)\n",
      "Requirement already satisfied: srsly<3.0.0,>=2.4.1 in /usr/local/lib/python3.9/site-packages (from spacy<3.3.0,>=3.2.0->en-core-web-sm==3.2.0) (2.4.2)\n",
      "Requirement already satisfied: spacy-loggers<2.0.0,>=1.0.0 in /usr/local/lib/python3.9/site-packages (from spacy<3.3.0,>=3.2.0->en-core-web-sm==3.2.0) (1.0.1)\n",
      "Requirement already satisfied: preshed<3.1.0,>=3.0.2 in /usr/local/lib/python3.9/site-packages (from spacy<3.3.0,>=3.2.0->en-core-web-sm==3.2.0) (3.0.6)\n",
      "Requirement already satisfied: catalogue<2.1.0,>=2.0.6 in /usr/local/lib/python3.9/site-packages (from spacy<3.3.0,>=3.2.0->en-core-web-sm==3.2.0) (2.0.6)\n",
      "Requirement already satisfied: pathy>=0.3.5 in /usr/local/lib/python3.9/site-packages (from spacy<3.3.0,>=3.2.0->en-core-web-sm==3.2.0) (0.6.1)\n",
      "Requirement already satisfied: numpy>=1.15.0 in /usr/local/lib/python3.9/site-packages (from spacy<3.3.0,>=3.2.0->en-core-web-sm==3.2.0) (1.22.2)\n",
      "Requirement already satisfied: langcodes<4.0.0,>=3.2.0 in /usr/local/lib/python3.9/site-packages (from spacy<3.3.0,>=3.2.0->en-core-web-sm==3.2.0) (3.3.0)\n",
      "Requirement already satisfied: tqdm<5.0.0,>=4.38.0 in /usr/local/lib/python3.9/site-packages (from spacy<3.3.0,>=3.2.0->en-core-web-sm==3.2.0) (4.62.3)\n",
      "Requirement already satisfied: jinja2 in /usr/local/lib/python3.9/site-packages (from spacy<3.3.0,>=3.2.0->en-core-web-sm==3.2.0) (3.0.3)\n",
      "Requirement already satisfied: setuptools in /usr/local/lib/python3.9/site-packages (from spacy<3.3.0,>=3.2.0->en-core-web-sm==3.2.0) (57.4.0)\n",
      "Requirement already satisfied: pydantic!=1.8,!=1.8.1,<1.9.0,>=1.7.4 in /usr/local/lib/python3.9/site-packages (from spacy<3.3.0,>=3.2.0->en-core-web-sm==3.2.0) (1.8.2)\n",
      "Requirement already satisfied: thinc<8.1.0,>=8.0.12 in /usr/local/lib/python3.9/site-packages (from spacy<3.3.0,>=3.2.0->en-core-web-sm==3.2.0) (8.0.13)\n",
      "Requirement already satisfied: wasabi<1.1.0,>=0.8.1 in /usr/local/lib/python3.9/site-packages (from spacy<3.3.0,>=3.2.0->en-core-web-sm==3.2.0) (0.9.0)\n",
      "Requirement already satisfied: cymem<2.1.0,>=2.0.2 in /usr/local/lib/python3.9/site-packages (from spacy<3.3.0,>=3.2.0->en-core-web-sm==3.2.0) (2.0.6)\n",
      "Requirement already satisfied: typer<0.5.0,>=0.3.0 in /usr/local/lib/python3.9/site-packages (from spacy<3.3.0,>=3.2.0->en-core-web-sm==3.2.0) (0.4.0)\n",
      "Requirement already satisfied: spacy-legacy<3.1.0,>=3.0.8 in /usr/local/lib/python3.9/site-packages (from spacy<3.3.0,>=3.2.0->en-core-web-sm==3.2.0) (3.0.9)\n",
      "Requirement already satisfied: requests<3.0.0,>=2.13.0 in /usr/local/lib/python3.9/site-packages (from spacy<3.3.0,>=3.2.0->en-core-web-sm==3.2.0) (2.26.0)\n",
      "Requirement already satisfied: pyparsing<3,>=2.0.2 in /usr/local/lib/python3.9/site-packages (from packaging>=20.0->spacy<3.3.0,>=3.2.0->en-core-web-sm==3.2.0) (2.4.7)\n",
      "Requirement already satisfied: smart-open<6.0.0,>=5.0.0 in /usr/local/lib/python3.9/site-packages (from pathy>=0.3.5->spacy<3.3.0,>=3.2.0->en-core-web-sm==3.2.0) (5.2.1)\n"
     ]
    },
    {
     "name": "stdout",
     "output_type": "stream",
     "text": [
      "Requirement already satisfied: typing-extensions>=3.7.4.3 in /usr/local/lib/python3.9/site-packages (from pydantic!=1.8,!=1.8.1,<1.9.0,>=1.7.4->spacy<3.3.0,>=3.2.0->en-core-web-sm==3.2.0) (4.0.0)\n",
      "Requirement already satisfied: charset-normalizer~=2.0.0 in /usr/local/lib/python3.9/site-packages (from requests<3.0.0,>=2.13.0->spacy<3.3.0,>=3.2.0->en-core-web-sm==3.2.0) (2.0.7)\n",
      "Requirement already satisfied: idna<4,>=2.5 in /usr/local/lib/python3.9/site-packages (from requests<3.0.0,>=2.13.0->spacy<3.3.0,>=3.2.0->en-core-web-sm==3.2.0) (3.3)\n",
      "Requirement already satisfied: urllib3<1.27,>=1.21.1 in /usr/local/lib/python3.9/site-packages (from requests<3.0.0,>=2.13.0->spacy<3.3.0,>=3.2.0->en-core-web-sm==3.2.0) (1.26.7)\n",
      "Requirement already satisfied: certifi>=2017.4.17 in /usr/local/lib/python3.9/site-packages (from requests<3.0.0,>=2.13.0->spacy<3.3.0,>=3.2.0->en-core-web-sm==3.2.0) (2021.10.8)\n",
      "Requirement already satisfied: click<9.0.0,>=7.1.1 in /usr/local/lib/python3.9/site-packages (from typer<0.5.0,>=0.3.0->spacy<3.3.0,>=3.2.0->en-core-web-sm==3.2.0) (8.0.3)\n",
      "Requirement already satisfied: MarkupSafe>=2.0 in /usr/local/lib/python3.9/site-packages (from jinja2->spacy<3.3.0,>=3.2.0->en-core-web-sm==3.2.0) (2.0.1)\n",
      "\u001b[33mWARNING: You are using pip version 21.3; however, version 22.0.4 is available.\n",
      "You should consider upgrading via the '/usr/local/opt/python@3.9/bin/python3.9 -m pip install --upgrade pip' command.\u001b[0m\n",
      "\u001b[38;5;2m✔ Download and installation successful\u001b[0m\n",
      "You can now load the package via spacy.load('en_core_web_sm')\n"
     ]
    }
   ],
   "source": [
    "!pip3 install -U spacy\n",
    "!python3 -m spacy download en \n",
    "import spacy\n",
    "# en_core_web_sm"
   ]
  },
  {
   "cell_type": "code",
   "execution_count": 99,
   "id": "22f167e7",
   "metadata": {},
   "outputs": [],
   "source": [
    "nlp = spacy.load('en_core_web_sm', disable=['parser', 'ner'])\n"
   ]
  },
  {
   "cell_type": "code",
   "execution_count": 100,
   "id": "2a2b08be",
   "metadata": {},
   "outputs": [],
   "source": [
    "import pandas as pd\n",
    "stemmer = SnowballStemmer(\"english\")\n",
    "# reviews_3 = [stemmer.stem(plural) for plural in original_words]\n",
    "\n",
    "def stemming_and_lemmatization(texts, tags=['NOUN', 'ADJ']):\n",
    "    output = []\n",
    "    for sent in texts:\n",
    "        doc = nlp(\" \".join(sent)) \n",
    "        output.append([token.lemma_ for token in doc if token.pos_ in tags])\n",
    "    return output"
   ]
  },
  {
   "cell_type": "code",
   "execution_count": 105,
   "id": "389a0049",
   "metadata": {},
   "outputs": [
    {
     "name": "stdout",
     "output_type": "stream",
     "text": [
      "['bought', 'one', 'months', 'back', 'toshiba', 'laptop', 'case', 'quite', 'strong', 'thou', 'lill', 'small', 'toshiba', 'satellite', 'side', 'bag', 'quite', 'strong', 'sturdy', 'compact', 'thinking', 'also', 'put', 'files', 'documents', 'case', 'along', 'laptop', 'bag', 'pros', 'strong', 'good', 'quality', 'fabric', 'zippers', 'water', 'proof', 'light', 'right', 'size', 'smart', 'looking', 'toocons', 'wont', 'recommend', 'laptops', 'wont', 'carry', 'books', 'big', 'files', 'overall', 'think', 'good', 'bag', 'price']\n"
     ]
    }
   ],
   "source": [
    "tokenized_reviews = pd.Series(reviews).apply(lambda x: x.split())\n",
    "print(tokenized_reviews[1])"
   ]
  },
  {
   "cell_type": "code",
   "execution_count": 106,
   "id": "205f54ef",
   "metadata": {},
   "outputs": [
    {
     "name": "stdout",
     "output_type": "stream",
     "text": [
      "['bought', 'one', 'months', 'back', 'toshiba', 'laptop', 'case', 'quite', 'strong', 'thou', 'lill', 'small', 'toshiba', 'satellite', 'side', 'bag', 'quite', 'strong', 'sturdy', 'compact', 'thinking', 'also', 'put', 'files', 'documents', 'case', 'along', 'laptop', 'bag', 'pros', 'strong', 'good', 'quality', 'fabric', 'zippers', 'water', 'proof', 'light', 'right', 'size', 'smart', 'looking', 'toocons', 'wont', 'recommend', 'laptops', 'wont', 'carry', 'books', 'big', 'files', 'overall', 'think', 'good', 'bag', 'price']\n"
     ]
    },
    {
     "data": {
      "text/plain": [
       "56"
      ]
     },
     "execution_count": 106,
     "metadata": {},
     "output_type": "execute_result"
    }
   ],
   "source": [
    "print(tokenized_reviews[1])\n",
    "len(tokenized_reviews[1])"
   ]
  },
  {
   "cell_type": "code",
   "execution_count": 107,
   "id": "453ca45e",
   "metadata": {},
   "outputs": [
    {
     "name": "stdout",
     "output_type": "stream",
     "text": [
      "['month', 'toshiba', 'laptop', 'case', 'strong', 'thou', 'side', 'bag', 'strong', 'sturdy', 'compact', 'thinking', 'file', 'document', 'case', 'laptop', 'bag', 'pro', 'strong', 'good', 'quality', 'fabric', 'zipper', 'water', 'proof', 'right', 'size', 'smart', 'toocon', 'laptop', 'book', 'big', 'file', 'good', 'bag', 'price']\n"
     ]
    }
   ],
   "source": [
    "reviews_2 = stemming_and_lemmatization(tokenized_reviews)\n",
    "print(reviews_2[1])"
   ]
  },
  {
   "cell_type": "code",
   "execution_count": 108,
   "id": "2cb56ad4",
   "metadata": {},
   "outputs": [
    {
     "data": {
      "text/plain": [
       "{'along',\n",
       " 'also',\n",
       " 'back',\n",
       " 'books',\n",
       " 'bought',\n",
       " 'carry',\n",
       " 'documents',\n",
       " 'files',\n",
       " 'laptops',\n",
       " 'light',\n",
       " 'lill',\n",
       " 'looking',\n",
       " 'months',\n",
       " 'one',\n",
       " 'overall',\n",
       " 'pros',\n",
       " 'put',\n",
       " 'quite',\n",
       " 'recommend',\n",
       " 'satellite',\n",
       " 'small',\n",
       " 'think',\n",
       " 'toocons',\n",
       " 'wont',\n",
       " 'zippers'}"
      ]
     },
     "execution_count": 108,
     "metadata": {},
     "output_type": "execute_result"
    }
   ],
   "source": [
    "set(tokenized_reviews[1]) - set(reviews_2[1])"
   ]
  },
  {
   "cell_type": "code",
   "execution_count": 109,
   "id": "49bdeb22",
   "metadata": {},
   "outputs": [],
   "source": [
    "reviews_3 = []\n",
    "for i in range(len(reviews_2)):\n",
    "    reviews_3.append(' '.join(reviews_2[i]))\n",
    "    \n",
    "bags_and_cases['reviews'] = reviews_3"
   ]
  },
  {
   "cell_type": "code",
   "execution_count": 110,
   "id": "080ea3e2",
   "metadata": {},
   "outputs": [
    {
     "name": "stdout",
     "output_type": "stream",
     "text": [
      "             word  count\n",
      "34            bag  37361\n",
      "0            case  36184\n",
      "7          laptop  32020\n",
      "120         great  14434\n",
      "3          pocket  13812\n",
      "41           good  13627\n",
      "85            fit  12732\n",
      "171      backpack  11049\n",
      "67          strap  10269\n",
      "55        product   9722\n",
      "11       computer   9492\n",
      "399       macbook   9031\n",
      "201         small   8480\n",
      "83            rrb   8296\n",
      "149        sleeve   8138\n",
      "19         little   8120\n",
      "1            nice   7956\n",
      "116   compartment   7540\n",
      "58          thing   7308\n",
      "1022        color   6678\n",
      "42        quality   6625\n",
      "53          price   6456\n",
      "170          time   6359\n",
      "25           side   6157\n",
      "131           lot   6104\n",
      "553         cover   6065\n",
      "93            use   5865\n",
      "52            big   5801\n",
      "360           top   5651\n",
      "371          love   5598\n",
      "122          room   5526\n",
      "283          inch   5424\n",
      "44         zipper   5379\n",
      "125          item   5353\n",
      "106       perfect   5349\n"
     ]
    },
    {
     "data": {
      "image/png": "[encoded data removed]",
      "text/plain": [
       "<Figure size 1440x360 with 1 Axes>"
      ]
     },
     "metadata": {
      "needs_background": "light"
     },
     "output_type": "display_data"
    }
   ],
   "source": [
    "freq_words(bags_and_cases['reviews'], 35)"
   ]
  },
  {
   "cell_type": "markdown",
   "id": "16ff2b30",
   "metadata": {},
   "source": [
    "#### Removing any URLs in the reviews"
   ]
  },
  {
   "cell_type": "code",
   "execution_count": 111,
   "id": "10043578",
   "metadata": {},
   "outputs": [],
   "source": [
    "def remove_url(text):\n",
    "    url = re.compile(r'https?://\\S+|www\\.\\S+')\n",
    "    return url.sub(r'', text)\n",
    "\n",
    "\n",
    "\n",
    "# remove all urls from df\n",
    "import re\n",
    "import string\n",
    "\n",
    "bags_and_cases['reviews'] = bags_and_cases['reviews'].apply(lambda x: remove_url(x))"
   ]
  },
  {
   "cell_type": "markdown",
   "id": "749f63b8",
   "metadata": {},
   "source": [
    "#### Removing html tags from the text"
   ]
  },
  {
   "cell_type": "code",
   "execution_count": 112,
   "id": "2a378261",
   "metadata": {},
   "outputs": [],
   "source": [
    "def remove_html(text):\n",
    "    html=re.compile(r'<.*?>')\n",
    "    return html.sub(r'',text)\n",
    "\n",
    "\n",
    "\n",
    "# remove all html tags from df\n",
    "bags_and_cases['reviews'] = bags_and_cases['reviews'].apply(lambda x: remove_html(x))"
   ]
  },
  {
   "cell_type": "markdown",
   "id": "4ac18099",
   "metadata": {},
   "source": [
    "#### Removing emojis and emoticons"
   ]
  },
  {
   "cell_type": "code",
   "execution_count": 113,
   "id": "2d0ae7c1",
   "metadata": {},
   "outputs": [],
   "source": [
    "# Reference : https://gist.github.com/slowkow/7a7f61f495e3dbb7e3d767f97bd7304b\n",
    "def remove_emoji(text):\n",
    "    emoji_pattern = re.compile(\"[\"\n",
    "                           u\"\\U0001F600-\\U0001F64F\"  # emoticons\n",
    "                           u\"\\U0001F300-\\U0001F5FF\"  # symbols & pictographs\n",
    "                           u\"\\U0001F680-\\U0001F6FF\"  # transport & map symbols\n",
    "                           u\"\\U0001F1E0-\\U0001F1FF\"  # flags \n",
    "                           u\"\\U00002702-\\U000027B0\"\n",
    "                           u\"\\U000024C2-\\U0001F251\"\n",
    "                           \"]+\", flags=re.UNICODE)\n",
    "    return emoji_pattern.sub(r'', text)\n",
    "\n",
    "\n",
    "\n",
    "# remove all emojis from df\n",
    "bags_and_cases['reviews'] = bags_and_cases['reviews'].apply(lambda x: remove_emoji(x))"
   ]
  },
  {
   "cell_type": "code",
   "execution_count": 114,
   "id": "98d268f9",
   "metadata": {},
   "outputs": [
    {
     "name": "stderr",
     "output_type": "stream",
     "text": [
      "<>:7: DeprecationWarning: invalid escape sequence \\(\n",
      "<>:7: DeprecationWarning: invalid escape sequence \\|\n",
      "<>:7: DeprecationWarning: invalid escape sequence \\)\n",
      "<>:7: DeprecationWarning: invalid escape sequence \\(\n",
      "<>:7: DeprecationWarning: invalid escape sequence \\|\n",
      "<>:7: DeprecationWarning: invalid escape sequence \\)\n",
      "/var/folders/gk/w9x3t41958b3mryczvgyr0fr0000gn/T/ipykernel_34613/2725549597.py:7: DeprecationWarning: invalid escape sequence \\(\n",
      "  emoticon_pattern = re.compile(u'\\(' + u'\\|'.join(k for k in EMOTICONS_EMO) + u'\\)')\n",
      "/var/folders/gk/w9x3t41958b3mryczvgyr0fr0000gn/T/ipykernel_34613/2725549597.py:7: DeprecationWarning: invalid escape sequence \\|\n",
      "  emoticon_pattern = re.compile(u'\\(' + u'\\|'.join(k for k in EMOTICONS_EMO) + u'\\)')\n",
      "/var/folders/gk/w9x3t41958b3mryczvgyr0fr0000gn/T/ipykernel_34613/2725549597.py:7: DeprecationWarning: invalid escape sequence \\)\n",
      "  emoticon_pattern = re.compile(u'\\(' + u'\\|'.join(k for k in EMOTICONS_EMO) + u'\\)')\n"
     ]
    },
    {
     "name": "stdout",
     "output_type": "stream",
     "text": [
      "\u001b[33mDEPRECATION: Configuring installation scheme with distutils config files is deprecated and will no longer work in the near future. If you are using a Homebrew or Linuxbrew Python, please see discussion at https://github.com/Homebrew/homebrew-core/issues/76621\u001b[0m\n",
      "Requirement already satisfied: emot in /usr/local/lib/python3.9/site-packages (3.1)\n",
      "\u001b[33mWARNING: You are using pip version 21.3; however, version 22.0.4 is available.\n",
      "You should consider upgrading via the '/usr/local/opt/python@3.9/bin/python3.9 -m pip install --upgrade pip' command.\u001b[0m\n"
     ]
    }
   ],
   "source": [
    "!pip3 install emot\n",
    "import emot\n",
    "from emot.emo_unicode import UNICODE_EMOJI, EMOTICONS_EMO\n",
    "\n",
    "# Function for removing emoticons\n",
    "def remove_emoticons(text):\n",
    "    emoticon_pattern = re.compile(u'\\(' + u'\\|'.join(k for k in EMOTICONS_EMO) + u'\\)')\n",
    "    return emoticon_pattern.sub(r'', text)\n",
    "\n",
    "\n",
    "\n",
    "# bags_and_cases['reviews'] = bags_and_cases['reviews'].apply(lambda x: remove_emoticons(x))"
   ]
  },
  {
   "cell_type": "code",
   "execution_count": 115,
   "id": "4088ec59",
   "metadata": {},
   "outputs": [],
   "source": [
    "# correction of the words spelling - not done at it is taking  lot of time to run\n",
    "# from textblob import TextBlob\n",
    "# bags_and_cases['reviews'].apply(lambda x: str(TextBlob(x).correct()))"
   ]
  },
  {
   "cell_type": "code",
   "execution_count": 116,
   "id": "5e01396a",
   "metadata": {},
   "outputs": [
    {
     "name": "stdout",
     "output_type": "stream",
     "text": [
      "             word  count\n",
      "34            bag  37361\n",
      "0            case  36184\n",
      "7          laptop  32020\n",
      "120         great  14434\n",
      "3          pocket  13812\n",
      "41           good  13627\n",
      "85            fit  12732\n",
      "171      backpack  11049\n",
      "67          strap  10269\n",
      "55        product   9722\n",
      "11       computer   9492\n",
      "399       macbook   9031\n",
      "201         small   8480\n",
      "83            rrb   8296\n",
      "149        sleeve   8138\n",
      "19         little   8120\n",
      "1            nice   7956\n",
      "116   compartment   7540\n",
      "58          thing   7308\n",
      "1022        color   6678\n",
      "42        quality   6625\n",
      "53          price   6456\n",
      "170          time   6359\n",
      "25           side   6157\n",
      "131           lot   6104\n",
      "553         cover   6065\n",
      "93            use   5865\n",
      "52            big   5801\n",
      "360           top   5651\n",
      "371          love   5598\n"
     ]
    },
    {
     "data": {
      "image/png": "[encoded data removed]",
      "text/plain": [
       "<Figure size 1440x360 with 1 Axes>"
      ]
     },
     "metadata": {
      "needs_background": "light"
     },
     "output_type": "display_data"
    }
   ],
   "source": [
    "freq_words(bags_and_cases['reviews'])"
   ]
  },
  {
   "cell_type": "code",
   "execution_count": 117,
   "id": "8afc357f",
   "metadata": {},
   "outputs": [
    {
     "name": "stderr",
     "output_type": "stream",
     "text": [
      "<>:4: DeprecationWarning: invalid escape sequence \\[\n",
      "<>:6: DeprecationWarning: invalid escape sequence \\w\n",
      "<>:4: DeprecationWarning: invalid escape sequence \\[\n",
      "<>:6: DeprecationWarning: invalid escape sequence \\w\n",
      "/var/folders/gk/w9x3t41958b3mryczvgyr0fr0000gn/T/ipykernel_34613/2170350517.py:4: DeprecationWarning: invalid escape sequence \\[\n",
      "  text = re.sub('\\[.*?\\]', '', text)\n",
      "/var/folders/gk/w9x3t41958b3mryczvgyr0fr0000gn/T/ipykernel_34613/2170350517.py:6: DeprecationWarning: invalid escape sequence \\w\n",
      "  text = re.sub('\\w*\\d\\w*', '', text)\n"
     ]
    }
   ],
   "source": [
    "def clean_text_round1(text):\n",
    "    '''Make text lowercase, remove text in square brackets, remove punctuation and remove words containing numbers.'''\n",
    "    text = text.lower()\n",
    "    text = re.sub('\\[.*?\\]', '', text)\n",
    "    text = re.sub('[%s]' % re.escape(string.punctuation), '', text)\n",
    "    text = re.sub('\\w*\\d\\w*', '', text)\n",
    "    return text\n",
    "\n",
    "round1 = lambda x: clean_text_round1(x)"
   ]
  },
  {
   "cell_type": "code",
   "execution_count": 118,
   "id": "7e5e3ad9",
   "metadata": {},
   "outputs": [
    {
     "data": {
      "text/plain": [
       "0        case nice plenty pocket stuff office thin laptop enough padding protect computer rubbing son fall thin laptop constant rubbing screen touchpad control little white mark blame computer design paddi...\n",
       "1        month toshiba laptop case strong thou side bag strong sturdy compact thinking file document case laptop bag pro strong good quality fabric zipper water proof right size smart toocon laptop book bi...\n",
       "2        pic product justice real thing good black synthetic sheen huge contraption people hand shoulder strap delicious padding adequate space large computer zip drive cable magazine note bulky file text ...\n",
       "3        pavilion rrb thing laptop front pocket fit power supply infrared mouse infrared transmitter headphone fine large pocket use store cdrom inside pocket large enough hold box business card heache sid...\n",
       "4                            happy bag expectation satellite adjustable padding secure notebook accomodate thick laptop thin bag enough compartment big exterior one interior one mouse power supply great value\n",
       "                                                                                                          ...                                                                                                   \n",
       "42627                                                                                                        great cheap fit macbook air perfect amount pocket ipad product long enough durability happy product\n",
       "42628                                                                                                       love case stylish protective perfect love fit backpack nice padding gray suede macbook air inch case\n",
       "42629    write review variety tech company due work school schedule able review product couple year new macbook air sleeve bag work school sleeve herschel company inateck effort perfect sleeve carrying cas...\n",
       "42630    name envelop cover case fit macbook air mini laptop case sturdy soft thick heather grey leather uniform strong patch leather bottom slip main compartment smooth soft flannel prevent content divide...\n",
       "42631                                                                                                                               way way functional attractive envelope macbook air perfect perfect recommend\n",
       "Name: reviews, Length: 42632, dtype: object"
      ]
     },
     "execution_count": 118,
     "metadata": {},
     "output_type": "execute_result"
    }
   ],
   "source": [
    "\n",
    "\n",
    "bags_and_cases['reviews'] = bags_and_cases['reviews'].apply(round1)\n",
    "bags_and_cases['reviews']\n",
    "\n"
   ]
  },
  {
   "cell_type": "code",
   "execution_count": 119,
   "id": "3b907985",
   "metadata": {},
   "outputs": [
    {
     "name": "stdout",
     "output_type": "stream",
     "text": [
      "             word  count\n",
      "34            bag  37361\n",
      "0            case  36184\n",
      "7          laptop  32020\n",
      "120         great  14434\n",
      "3          pocket  13812\n",
      "41           good  13627\n",
      "85            fit  12732\n",
      "171      backpack  11049\n",
      "67          strap  10269\n",
      "55        product   9722\n",
      "11       computer   9492\n",
      "399       macbook   9031\n",
      "201         small   8480\n",
      "83            rrb   8296\n",
      "149        sleeve   8138\n",
      "19         little   8120\n",
      "1            nice   7956\n",
      "116   compartment   7540\n",
      "58          thing   7308\n",
      "1022        color   6678\n",
      "42        quality   6625\n",
      "53          price   6456\n",
      "170          time   6359\n",
      "25           side   6157\n",
      "131           lot   6104\n",
      "553         cover   6065\n",
      "93            use   5865\n",
      "52            big   5801\n",
      "360           top   5651\n",
      "371          love   5598\n"
     ]
    },
    {
     "data": {
      "image/png": "[encoded data removed]",
      "text/plain": [
       "<Figure size 1440x360 with 1 Axes>"
      ]
     },
     "metadata": {
      "needs_background": "light"
     },
     "output_type": "display_data"
    }
   ],
   "source": [
    "freq_words(bags_and_cases['reviews'])"
   ]
  },
  {
   "cell_type": "code",
   "execution_count": 120,
   "id": "eb2eb699",
   "metadata": {},
   "outputs": [],
   "source": [
    "\n",
    "\n",
    "# Apply a second round of cleaning\n",
    "def clean_text_round2(text):\n",
    "    '''Get rid of some additional punctuation and non-sensical text that was missed the first time around.'''\n",
    "    text = re.sub('[‘’“”…]', '', text)\n",
    "    text = re.sub('\\n', '', text)\n",
    "    return text\n",
    "\n",
    "round2 = lambda x: clean_text_round2(x)\n",
    "\n"
   ]
  },
  {
   "cell_type": "code",
   "execution_count": 121,
   "id": "5193041b",
   "metadata": {},
   "outputs": [
    {
     "data": {
      "text/plain": [
       "0        case nice plenty pocket stuff office thin laptop enough padding protect computer rubbing son fall thin laptop constant rubbing screen touchpad control little white mark blame computer design paddi...\n",
       "1        month toshiba laptop case strong thou side bag strong sturdy compact thinking file document case laptop bag pro strong good quality fabric zipper water proof right size smart toocon laptop book bi...\n",
       "2        pic product justice real thing good black synthetic sheen huge contraption people hand shoulder strap delicious padding adequate space large computer zip drive cable magazine note bulky file text ...\n",
       "3        pavilion rrb thing laptop front pocket fit power supply infrared mouse infrared transmitter headphone fine large pocket use store cdrom inside pocket large enough hold box business card heache sid...\n",
       "4                            happy bag expectation satellite adjustable padding secure notebook accomodate thick laptop thin bag enough compartment big exterior one interior one mouse power supply great value\n",
       "                                                                                                          ...                                                                                                   \n",
       "42627                                                                                                        great cheap fit macbook air perfect amount pocket ipad product long enough durability happy product\n",
       "42628                                                                                                       love case stylish protective perfect love fit backpack nice padding gray suede macbook air inch case\n",
       "42629    write review variety tech company due work school schedule able review product couple year new macbook air sleeve bag work school sleeve herschel company inateck effort perfect sleeve carrying cas...\n",
       "42630    name envelop cover case fit macbook air mini laptop case sturdy soft thick heather grey leather uniform strong patch leather bottom slip main compartment smooth soft flannel prevent content divide...\n",
       "42631                                                                                                                               way way functional attractive envelope macbook air perfect perfect recommend\n",
       "Name: reviews, Length: 42632, dtype: object"
      ]
     },
     "execution_count": 121,
     "metadata": {},
     "output_type": "execute_result"
    }
   ],
   "source": [
    "\n",
    "\n",
    "bags_and_cases['reviews'] = bags_and_cases['reviews'].apply(round2)\n",
    "bags_and_cases['reviews']\n",
    "\n"
   ]
  },
  {
   "cell_type": "code",
   "execution_count": 122,
   "id": "de32749c",
   "metadata": {},
   "outputs": [
    {
     "data": {
      "text/html": [
       "<div>\n",
       "<style scoped>\n",
       "    .dataframe tbody tr th:only-of-type {\n",
       "        vertical-align: middle;\n",
       "    }\n",
       "\n",
       "    .dataframe tbody tr th {\n",
       "        vertical-align: top;\n",
       "    }\n",
       "\n",
       "    .dataframe thead th {\n",
       "        text-align: right;\n",
       "    }\n",
       "</style>\n",
       "<table border=\"1\" class=\"dataframe\">\n",
       "  <thead>\n",
       "    <tr style=\"text-align: right;\">\n",
       "      <th></th>\n",
       "      <th>reviews</th>\n",
       "      <th>word_count</th>\n",
       "    </tr>\n",
       "  </thead>\n",
       "  <tbody>\n",
       "    <tr>\n",
       "      <th>0</th>\n",
       "      <td>case nice plenty pocket stuff office thin laptop enough padding protect computer rubbing son fall thin laptop constant rubbing screen touchpad control little white mark blame computer design paddi...</td>\n",
       "      <td>37</td>\n",
       "    </tr>\n",
       "    <tr>\n",
       "      <th>1</th>\n",
       "      <td>month toshiba laptop case strong thou side bag strong sturdy compact thinking file document case laptop bag pro strong good quality fabric zipper water proof right size smart toocon laptop book bi...</td>\n",
       "      <td>36</td>\n",
       "    </tr>\n",
       "    <tr>\n",
       "      <th>2</th>\n",
       "      <td>pic product justice real thing good black synthetic sheen huge contraption people hand shoulder strap delicious padding adequate space large computer zip drive cable magazine note bulky file text ...</td>\n",
       "      <td>33</td>\n",
       "    </tr>\n",
       "    <tr>\n",
       "      <th>3</th>\n",
       "      <td>pavilion rrb thing laptop front pocket fit power supply infrared mouse infrared transmitter headphone fine large pocket use store cdrom inside pocket large enough hold box business card heache sid...</td>\n",
       "      <td>40</td>\n",
       "    </tr>\n",
       "    <tr>\n",
       "      <th>4</th>\n",
       "      <td>happy bag expectation satellite adjustable padding secure notebook accomodate thick laptop thin bag enough compartment big exterior one interior one mouse power supply great value</td>\n",
       "      <td>25</td>\n",
       "    </tr>\n",
       "  </tbody>\n",
       "</table>\n",
       "</div>"
      ],
      "text/plain": [
       "                                                                                                                                                                                                   reviews  \\\n",
       "0  case nice plenty pocket stuff office thin laptop enough padding protect computer rubbing son fall thin laptop constant rubbing screen touchpad control little white mark blame computer design paddi...   \n",
       "1  month toshiba laptop case strong thou side bag strong sturdy compact thinking file document case laptop bag pro strong good quality fabric zipper water proof right size smart toocon laptop book bi...   \n",
       "2  pic product justice real thing good black synthetic sheen huge contraption people hand shoulder strap delicious padding adequate space large computer zip drive cable magazine note bulky file text ...   \n",
       "3  pavilion rrb thing laptop front pocket fit power supply infrared mouse infrared transmitter headphone fine large pocket use store cdrom inside pocket large enough hold box business card heache sid...   \n",
       "4                      happy bag expectation satellite adjustable padding secure notebook accomodate thick laptop thin bag enough compartment big exterior one interior one mouse power supply great value   \n",
       "\n",
       "   word_count  \n",
       "0          37  \n",
       "1          36  \n",
       "2          33  \n",
       "3          40  \n",
       "4          25  "
      ]
     },
     "execution_count": 122,
     "metadata": {},
     "output_type": "execute_result"
    }
   ],
   "source": [
    "bags_and_cases['word_count'] = bags_and_cases['reviews'].apply(lambda x: len(str(x).split(\" \")))\n",
    "bags_and_cases[['reviews','word_count']].head()"
   ]
  },
  {
   "cell_type": "code",
   "execution_count": 123,
   "id": "d359d68c",
   "metadata": {},
   "outputs": [
    {
     "name": "stdout",
     "output_type": "stream",
     "text": [
      "             word  count\n",
      "34            bag  37361\n",
      "0            case  36184\n",
      "7          laptop  32020\n",
      "120         great  14434\n",
      "3          pocket  13812\n",
      "41           good  13627\n",
      "85            fit  12732\n",
      "171      backpack  11049\n",
      "67          strap  10269\n",
      "55        product   9722\n",
      "11       computer   9492\n",
      "399       macbook   9031\n",
      "201         small   8480\n",
      "83            rrb   8296\n",
      "149        sleeve   8138\n",
      "19         little   8120\n",
      "1            nice   7956\n",
      "116   compartment   7540\n",
      "58          thing   7308\n",
      "1022        color   6678\n",
      "42        quality   6625\n",
      "53          price   6456\n",
      "170          time   6359\n",
      "25           side   6157\n",
      "131           lot   6104\n",
      "553         cover   6065\n",
      "93            use   5865\n",
      "52            big   5801\n",
      "360           top   5651\n",
      "371          love   5598\n"
     ]
    },
    {
     "data": {
      "image/png": "[encoded data removed]",
      "text/plain": [
       "<Figure size 1440x360 with 1 Axes>"
      ]
     },
     "metadata": {
      "needs_background": "light"
     },
     "output_type": "display_data"
    }
   ],
   "source": [
    "freq_words(bags_and_cases['reviews'])"
   ]
  },
  {
   "cell_type": "code",
   "execution_count": 124,
   "id": "77d37d11",
   "metadata": {},
   "outputs": [],
   "source": [
    "bags_and_cases.to_csv('bags_and_cases_processed.csv')"
   ]
  },
  {
   "cell_type": "code",
   "execution_count": 125,
   "id": "283c32c8",
   "metadata": {},
   "outputs": [
    {
     "data": {
      "text/html": [
       "<div>\n",
       "<style scoped>\n",
       "    .dataframe tbody tr th:only-of-type {\n",
       "        vertical-align: middle;\n",
       "    }\n",
       "\n",
       "    .dataframe tbody tr th {\n",
       "        vertical-align: top;\n",
       "    }\n",
       "\n",
       "    .dataframe thead th {\n",
       "        text-align: right;\n",
       "    }\n",
       "</style>\n",
       "<table border=\"1\" class=\"dataframe\">\n",
       "  <thead>\n",
       "    <tr style=\"text-align: right;\">\n",
       "      <th></th>\n",
       "      <th>product_Id</th>\n",
       "      <th>rating</th>\n",
       "      <th>reviews</th>\n",
       "      <th>stopwords</th>\n",
       "      <th>punctuation</th>\n",
       "      <th>hastags</th>\n",
       "      <th>numerics</th>\n",
       "      <th>upper</th>\n",
       "      <th>word_count</th>\n",
       "    </tr>\n",
       "  </thead>\n",
       "  <tbody>\n",
       "    <tr>\n",
       "      <th>0</th>\n",
       "      <td>B00001OPGT-0000</td>\n",
       "      <td>2</td>\n",
       "      <td>case nice plenty pocket stuff office thin laptop enough padding protect computer rubbing son fall thin laptop constant rubbing screen touchpad control little white mark blame computer design paddi...</td>\n",
       "      <td>76</td>\n",
       "      <td>0</td>\n",
       "      <td>0</td>\n",
       "      <td>0</td>\n",
       "      <td>0</td>\n",
       "      <td>37</td>\n",
       "    </tr>\n",
       "    <tr>\n",
       "      <th>1</th>\n",
       "      <td>B00001OPGT-0001</td>\n",
       "      <td>3</td>\n",
       "      <td>month toshiba laptop case strong thou side bag strong sturdy compact thinking file document case laptop bag pro strong good quality fabric zipper water proof right size smart toocon laptop book bi...</td>\n",
       "      <td>44</td>\n",
       "      <td>0</td>\n",
       "      <td>0</td>\n",
       "      <td>0</td>\n",
       "      <td>1</td>\n",
       "      <td>36</td>\n",
       "    </tr>\n",
       "    <tr>\n",
       "      <th>2</th>\n",
       "      <td>B00001OPGT-0002</td>\n",
       "      <td>3</td>\n",
       "      <td>pic product justice real thing good black synthetic sheen huge contraption people hand shoulder strap delicious padding adequate space large computer zip drive cable magazine note bulky file text ...</td>\n",
       "      <td>26</td>\n",
       "      <td>0</td>\n",
       "      <td>0</td>\n",
       "      <td>0</td>\n",
       "      <td>5</td>\n",
       "      <td>33</td>\n",
       "    </tr>\n",
       "    <tr>\n",
       "      <th>3</th>\n",
       "      <td>B00001OPGT-0003</td>\n",
       "      <td>4</td>\n",
       "      <td>pavilion rrb thing laptop front pocket fit power supply infrared mouse infrared transmitter headphone fine large pocket use store cdrom inside pocket large enough hold box business card heache sid...</td>\n",
       "      <td>38</td>\n",
       "      <td>0</td>\n",
       "      <td>0</td>\n",
       "      <td>0</td>\n",
       "      <td>9</td>\n",
       "      <td>40</td>\n",
       "    </tr>\n",
       "    <tr>\n",
       "      <th>4</th>\n",
       "      <td>B00001OPGT-0004</td>\n",
       "      <td>4</td>\n",
       "      <td>happy bag expectation satellite adjustable padding secure notebook accomodate thick laptop thin bag enough compartment big exterior one interior one mouse power supply great value</td>\n",
       "      <td>32</td>\n",
       "      <td>0</td>\n",
       "      <td>0</td>\n",
       "      <td>0</td>\n",
       "      <td>3</td>\n",
       "      <td>25</td>\n",
       "    </tr>\n",
       "    <tr>\n",
       "      <th>...</th>\n",
       "      <td>...</td>\n",
       "      <td>...</td>\n",
       "      <td>...</td>\n",
       "      <td>...</td>\n",
       "      <td>...</td>\n",
       "      <td>...</td>\n",
       "      <td>...</td>\n",
       "      <td>...</td>\n",
       "      <td>...</td>\n",
       "    </tr>\n",
       "    <tr>\n",
       "      <th>42627</th>\n",
       "      <td>B00JO6UGFU-0004</td>\n",
       "      <td>4</td>\n",
       "      <td>great cheap fit macbook air perfect amount pocket ipad product long enough durability happy product</td>\n",
       "      <td>28</td>\n",
       "      <td>1</td>\n",
       "      <td>1</td>\n",
       "      <td>0</td>\n",
       "      <td>5</td>\n",
       "      <td>15</td>\n",
       "    </tr>\n",
       "    <tr>\n",
       "      <th>42628</th>\n",
       "      <td>B00JO6UGFU-0005</td>\n",
       "      <td>4</td>\n",
       "      <td>love case stylish protective perfect love fit backpack nice padding gray suede macbook air inch case</td>\n",
       "      <td>20</td>\n",
       "      <td>0</td>\n",
       "      <td>0</td>\n",
       "      <td>0</td>\n",
       "      <td>5</td>\n",
       "      <td>16</td>\n",
       "    </tr>\n",
       "    <tr>\n",
       "      <th>42629</th>\n",
       "      <td>B00JO6UGFU-0006</td>\n",
       "      <td>4</td>\n",
       "      <td>write review variety tech company due work school schedule able review product couple year new macbook air sleeve bag work school sleeve herschel company inateck effort perfect sleeve carrying cas...</td>\n",
       "      <td>361</td>\n",
       "      <td>3</td>\n",
       "      <td>3</td>\n",
       "      <td>0</td>\n",
       "      <td>27</td>\n",
       "      <td>224</td>\n",
       "    </tr>\n",
       "    <tr>\n",
       "      <th>42630</th>\n",
       "      <td>B00JO6UGFU-0007</td>\n",
       "      <td>4</td>\n",
       "      <td>name envelop cover case fit macbook air mini laptop case sturdy soft thick heather grey leather uniform strong patch leather bottom slip main compartment smooth soft flannel prevent content divide...</td>\n",
       "      <td>87</td>\n",
       "      <td>1</td>\n",
       "      <td>1</td>\n",
       "      <td>0</td>\n",
       "      <td>5</td>\n",
       "      <td>80</td>\n",
       "    </tr>\n",
       "    <tr>\n",
       "      <th>42631</th>\n",
       "      <td>B00JO6UGFU-0008</td>\n",
       "      <td>4</td>\n",
       "      <td>way way functional attractive envelope macbook air perfect perfect recommend</td>\n",
       "      <td>11</td>\n",
       "      <td>0</td>\n",
       "      <td>0</td>\n",
       "      <td>0</td>\n",
       "      <td>3</td>\n",
       "      <td>10</td>\n",
       "    </tr>\n",
       "  </tbody>\n",
       "</table>\n",
       "<p>42632 rows × 9 columns</p>\n",
       "</div>"
      ],
      "text/plain": [
       "            product_Id rating  \\\n",
       "0      B00001OPGT-0000      2   \n",
       "1      B00001OPGT-0001      3   \n",
       "2      B00001OPGT-0002      3   \n",
       "3      B00001OPGT-0003      4   \n",
       "4      B00001OPGT-0004      4   \n",
       "...                ...    ...   \n",
       "42627  B00JO6UGFU-0004      4   \n",
       "42628  B00JO6UGFU-0005      4   \n",
       "42629  B00JO6UGFU-0006      4   \n",
       "42630  B00JO6UGFU-0007      4   \n",
       "42631  B00JO6UGFU-0008      4   \n",
       "\n",
       "                                                                                                                                                                                                       reviews  \\\n",
       "0      case nice plenty pocket stuff office thin laptop enough padding protect computer rubbing son fall thin laptop constant rubbing screen touchpad control little white mark blame computer design paddi...   \n",
       "1      month toshiba laptop case strong thou side bag strong sturdy compact thinking file document case laptop bag pro strong good quality fabric zipper water proof right size smart toocon laptop book bi...   \n",
       "2      pic product justice real thing good black synthetic sheen huge contraption people hand shoulder strap delicious padding adequate space large computer zip drive cable magazine note bulky file text ...   \n",
       "3      pavilion rrb thing laptop front pocket fit power supply infrared mouse infrared transmitter headphone fine large pocket use store cdrom inside pocket large enough hold box business card heache sid...   \n",
       "4                          happy bag expectation satellite adjustable padding secure notebook accomodate thick laptop thin bag enough compartment big exterior one interior one mouse power supply great value   \n",
       "...                                                                                                                                                                                                        ...   \n",
       "42627                                                                                                      great cheap fit macbook air perfect amount pocket ipad product long enough durability happy product   \n",
       "42628                                                                                                     love case stylish protective perfect love fit backpack nice padding gray suede macbook air inch case   \n",
       "42629  write review variety tech company due work school schedule able review product couple year new macbook air sleeve bag work school sleeve herschel company inateck effort perfect sleeve carrying cas...   \n",
       "42630  name envelop cover case fit macbook air mini laptop case sturdy soft thick heather grey leather uniform strong patch leather bottom slip main compartment smooth soft flannel prevent content divide...   \n",
       "42631                                                                                                                             way way functional attractive envelope macbook air perfect perfect recommend   \n",
       "\n",
       "       stopwords  punctuation  hastags  numerics  upper  word_count  \n",
       "0             76            0        0         0      0          37  \n",
       "1             44            0        0         0      1          36  \n",
       "2             26            0        0         0      5          33  \n",
       "3             38            0        0         0      9          40  \n",
       "4             32            0        0         0      3          25  \n",
       "...          ...          ...      ...       ...    ...         ...  \n",
       "42627         28            1        1         0      5          15  \n",
       "42628         20            0        0         0      5          16  \n",
       "42629        361            3        3         0     27         224  \n",
       "42630         87            1        1         0      5          80  \n",
       "42631         11            0        0         0      3          10  \n",
       "\n",
       "[42632 rows x 9 columns]"
      ]
     },
     "execution_count": 125,
     "metadata": {},
     "output_type": "execute_result"
    }
   ],
   "source": [
    "bags_and_cases"
   ]
  },
  {
   "cell_type": "code",
   "execution_count": 126,
   "id": "c8a58f62",
   "metadata": {},
   "outputs": [
    {
     "name": "stdout",
     "output_type": "stream",
     "text": [
      "\u001b[33mDEPRECATION: Configuring installation scheme with distutils config files is deprecated and will no longer work in the near future. If you are using a Homebrew or Linuxbrew Python, please see discussion at https://github.com/Homebrew/homebrew-core/issues/76621\u001b[0m\n",
      "\u001b[33mWARNING: You are using pip version 21.3; however, version 22.0.4 is available.\n",
      "You should consider upgrading via the '/usr/local/opt/python@3.9/bin/python3.9 -m pip install --upgrade pip' command.\u001b[0m\n"
     ]
    }
   ],
   "source": [
    "!pip3 install -q wordcloud\n",
    "import wordcloud\n",
    "\n",
    "from wordcloud import WordCloud, STOPWORDS, ImageColorGenerator"
   ]
  },
  {
   "cell_type": "code",
   "execution_count": 127,
   "id": "da778342",
   "metadata": {},
   "outputs": [
    {
     "name": "stdout",
     "output_type": "stream",
     "text": [
      "There are 7506938 words in the combination of all reviews.\n"
     ]
    }
   ],
   "source": [
    "text_for_cloud = \" \".join(word for word in bags_and_cases.reviews)\n",
    "print (\"There are {} words in the combination of all reviews.\".format(len(text_for_cloud)))"
   ]
  },
  {
   "cell_type": "code",
   "execution_count": null,
   "id": "ebb4f102",
   "metadata": {},
   "outputs": [],
   "source": [
    "from matplotlib.pyplot import figure\n",
    "\n",
    "# Create stopword list:\n",
    "stopwords = set(STOPWORDS)\n",
    "\n",
    "# Generate a word cloud image\n",
    "wordcloud = WordCloud(stopwords=stopwords, background_color=\"white\").generate(text_for_cloud)\n",
    "\n",
    "# Display the generated image:\n",
    "# the matplotlib way:\n",
    "figure(figsize= (8,8), dpi= 100)\n",
    "plt.imshow(wordcloud, interpolation='bilinear')\n",
    "plt.axis(\"off\")\n",
    "plt.show()"
   ]
  },
  {
   "cell_type": "code",
   "execution_count": 129,
   "id": "e79688fc",
   "metadata": {},
   "outputs": [
    {
     "data": {
      "text/plain": [
       "bag            37361\n",
       "case           36184\n",
       "laptop         32020\n",
       "great          14434\n",
       "pocket         13812\n",
       "good           13627\n",
       "fit            12732\n",
       "backpack       11049\n",
       "strap          10269\n",
       "product         9722\n",
       "computer        9492\n",
       "macbook         9031\n",
       "small           8480\n",
       "rrb             8296\n",
       "sleeve          8138\n",
       "little          8120\n",
       "nice            7956\n",
       "compartment     7540\n",
       "thing           7308\n",
       "color           6678\n",
       "quality         6625\n",
       "price           6456\n",
       "time            6359\n",
       "side            6157\n",
       "lot             6104\n",
       "cover           6065\n",
       "use             5865\n",
       "big             5801\n",
       "top             5651\n",
       "love            5598\n",
       "room            5526\n",
       "inch            5424\n",
       "zipper          5379\n",
       "item            5353\n",
       "perfect         5349\n",
       "bottom          5183\n",
       "large           4936\n",
       "shoulder        4895\n",
       "new             4645\n",
       "work            4395\n",
       "dtype: int64"
      ]
     },
     "execution_count": 129,
     "metadata": {},
     "output_type": "execute_result"
    }
   ],
   "source": [
    "freq_of_words = pd.Series(' '.join(bags_and_cases['reviews']).split()).value_counts()[:40]\n",
    "freq_of_words"
   ]
  },
  {
   "cell_type": "code",
   "execution_count": null,
   "id": "c7eb9917",
   "metadata": {},
   "outputs": [],
   "source": []
  }
 ],
 "metadata": {
  "kernelspec": {
   "display_name": "Python 3 (ipykernel)",
   "language": "python",
   "name": "python3"
  },
  "language_info": {
   "codemirror_mode": {
    "name": "ipython",
    "version": 3
   },
   "file_extension": ".py",
   "mimetype": "text/x-python",
   "name": "python",
   "nbconvert_exporter": "python",
   "pygments_lexer": "ipython3",
   "version": "3.9.7"
  }
 },
 "nbformat": 4,
 "nbformat_minor": 5
}
